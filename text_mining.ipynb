{
  "nbformat": 4,
  "nbformat_minor": 0,
  "metadata": {
    "colab": {
      "name": "text mining.ipynb",
      "provenance": [],
      "mount_file_id": "1qw9-ae8wQnoeco9SLgZ5ZJE0RXjfJpGu",
      "authorship_tag": "ABX9TyP6ee+Kpsd7h70ZEosoOih+",
      "include_colab_link": true
    },
    "kernelspec": {
      "name": "python3",
      "display_name": "Python 3"
    }
  },
  "cells": [
    {
      "cell_type": "markdown",
      "metadata": {
        "id": "view-in-github",
        "colab_type": "text"
      },
      "source": [
        "<a href=\"https://colab.research.google.com/github/yuxuan0702/Twitter-data-Analysis/blob/master/text_mining.ipynb\" target=\"_parent\"><img src=\"https://colab.research.google.com/assets/colab-badge.svg\" alt=\"Open In Colab\"/></a>"
      ]
    },
    {
      "cell_type": "code",
      "metadata": {
        "id": "O1Hp3zwHt81c",
        "colab_type": "code",
        "outputId": "5a774af9-da33-4920-dfca-cdb4a541eda7",
        "colab": {
          "base_uri": "https://localhost:8080/",
          "height": 68
        }
      },
      "source": [
        "pip install textblob"
      ],
      "execution_count": 0,
      "outputs": [
        {
          "output_type": "stream",
          "text": [
            "Requirement already satisfied: textblob in /usr/local/lib/python3.6/dist-packages (0.15.3)\n",
            "Requirement already satisfied: nltk>=3.1 in /usr/local/lib/python3.6/dist-packages (from textblob) (3.2.5)\n",
            "Requirement already satisfied: six in /usr/local/lib/python3.6/dist-packages (from nltk>=3.1->textblob) (1.12.0)\n"
          ],
          "name": "stdout"
        }
      ]
    },
    {
      "cell_type": "code",
      "metadata": {
        "id": "S0uCKOB1khd6",
        "colab_type": "code",
        "outputId": "be505f59-2587-4f98-a9f9-3165a765687a",
        "colab": {
          "base_uri": "https://localhost:8080/",
          "height": 153
        }
      },
      "source": [
        "import pandas as pd \n",
        "import numpy as np \n",
        "import matplotlib.pyplot as plt\n",
        "import seaborn as sns \n",
        "import nltk\n",
        "import gensim\n",
        "from nltk.corpus import stopwords\n",
        "from gensim import corpora\n",
        "from gensim.parsing.preprocessing import remove_stopwords\n",
        "from nltk.probability import FreqDist\n",
        "from nltk.stem import PorterStemmer\n",
        "from textblob import TextBlob\n",
        "from sklearn.feature_extraction.text import TfidfVectorizer\n",
        "from sklearn.feature_extraction.text import CountVectorizer\n",
        "\n",
        "nltk.download('averaged_perceptron_tagger')\n",
        "nltk.download('punkt')\n",
        "nltk.download('stopwords')\n",
        "%matplotlib inline"
      ],
      "execution_count": 0,
      "outputs": [
        {
          "output_type": "stream",
          "text": [
            "[nltk_data] Downloading package averaged_perceptron_tagger to\n",
            "[nltk_data]     /root/nltk_data...\n",
            "[nltk_data]   Package averaged_perceptron_tagger is already up-to-\n",
            "[nltk_data]       date!\n",
            "[nltk_data] Downloading package punkt to /root/nltk_data...\n",
            "[nltk_data]   Package punkt is already up-to-date!\n",
            "[nltk_data] Downloading package stopwords to /root/nltk_data...\n",
            "[nltk_data]   Package stopwords is already up-to-date!\n"
          ],
          "name": "stdout"
        }
      ]
    },
    {
      "cell_type": "code",
      "metadata": {
        "id": "9l33XUcytzRd",
        "colab_type": "code",
        "outputId": "444da2f1-b5fb-42b5-c2c9-f74dfef13d78",
        "colab": {
          "base_uri": "https://localhost:8080/",
          "height": 204
        }
      },
      "source": [
        "df = pd.read_csv('/content/drive/My Drive/第四个学期/MA710/social network/data.csv',index_col=[0])\n",
        "df.head()"
      ],
      "execution_count": 0,
      "outputs": [
        {
          "output_type": "execute_result",
          "data": {
            "text/html": [
              "<div>\n",
              "<style scoped>\n",
              "    .dataframe tbody tr th:only-of-type {\n",
              "        vertical-align: middle;\n",
              "    }\n",
              "\n",
              "    .dataframe tbody tr th {\n",
              "        vertical-align: top;\n",
              "    }\n",
              "\n",
              "    .dataframe thead th {\n",
              "        text-align: right;\n",
              "    }\n",
              "</style>\n",
              "<table border=\"1\" class=\"dataframe\">\n",
              "  <thead>\n",
              "    <tr style=\"text-align: right;\">\n",
              "      <th></th>\n",
              "      <th>username</th>\n",
              "      <th>tweet</th>\n",
              "      <th>time</th>\n",
              "      <th>retweet</th>\n",
              "      <th>fav</th>\n",
              "    </tr>\n",
              "  </thead>\n",
              "  <tbody>\n",
              "    <tr>\n",
              "      <th>0</th>\n",
              "      <td>tile</td>\n",
              "      <td>What about the Bentley Continental GT that eve...</td>\n",
              "      <td>2020-04-24 17:34:29+00:00</td>\n",
              "      <td>0</td>\n",
              "      <td>0</td>\n",
              "    </tr>\n",
              "    <tr>\n",
              "      <th>1</th>\n",
              "      <td>Bentley_CMT</td>\n",
              "      <td>Help Bentley students raise money for the Bent...</td>\n",
              "      <td>2020-04-24 15:42:59+00:00</td>\n",
              "      <td>0</td>\n",
              "      <td>0</td>\n",
              "    </tr>\n",
              "    <tr>\n",
              "      <th>2</th>\n",
              "      <td>CoBrevard</td>\n",
              "      <td>Bentley Institute Announces Digital Infrastruc...</td>\n",
              "      <td>2020-04-24 04:01:32+00:00</td>\n",
              "      <td>0</td>\n",
              "      <td>0</td>\n",
              "    </tr>\n",
              "    <tr>\n",
              "      <th>3</th>\n",
              "      <td>directionsmag</td>\n",
              "      <td>\"Bentley Institute announces “Digital Infrastr...</td>\n",
              "      <td>2020-04-23 16:12:27+00:00</td>\n",
              "      <td>0</td>\n",
              "      <td>0</td>\n",
              "    </tr>\n",
              "    <tr>\n",
              "      <th>4</th>\n",
              "      <td>AlanCowgill</td>\n",
              "      <td>https://bit.ly/MarcoDeals Well over a decade a...</td>\n",
              "      <td>2020-04-23 01:47:33+00:00</td>\n",
              "      <td>0</td>\n",
              "      <td>0</td>\n",
              "    </tr>\n",
              "  </tbody>\n",
              "</table>\n",
              "</div>"
            ],
            "text/plain": [
              "        username  ... fav\n",
              "0           tile  ...   0\n",
              "1    Bentley_CMT  ...   0\n",
              "2      CoBrevard  ...   0\n",
              "3  directionsmag  ...   0\n",
              "4    AlanCowgill  ...   0\n",
              "\n",
              "[5 rows x 5 columns]"
            ]
          },
          "metadata": {
            "tags": []
          },
          "execution_count": 3
        }
      ]
    },
    {
      "cell_type": "code",
      "metadata": {
        "id": "ZnCKdxVoZgvB",
        "colab_type": "code",
        "outputId": "25b0c255-42c6-4932-8c62-d09355c0b576",
        "colab": {
          "base_uri": "https://localhost:8080/",
          "height": 54
        }
      },
      "source": [
        "# extract tweet\n",
        "tweet=list(df['tweet'])\n",
        "string = \",\".join(tweet)\n",
        "string"
      ],
      "execution_count": 0,
      "outputs": [
        {
          "output_type": "execute_result",
          "data": {
            "text/plain": [
              "'What about the Bentley Continental GT that every student athlete got too? Some of them got beachfront homes too!!! Why focus on crappy headphones? Aim high and grab the brass ring with your stories man!,Help Bentley students raise money for the Bentley Emergency Assistance Fund (EAF) to help out students in dire financial straits. Visit and share their online pop-up store at https://keep-the-beat-going.myshopify.com Hurry the store closes on April 29th! #keetthebeatgoing #bentleyuniversity,Bentley Institute Announces Digital Infrastructure Student Challenge https://ift.tt/3cJuyQl #roofing #florida #brevardcounty,\"Bentley Institute announces “Digital Infrastructure Student Idea Challenge 2020”\" https://www.directionsmag.com/pressrelease/9744 #GIS,https://bit.ly/MarcoDeals Well over a decade ago I met a guy named Marco. I met his family. His children are named Bentley and Mercedes, which I found memorable I have watched him travel all over the world helping his students-teaches how to do big deals ,Our Keep The Beat Going team of Bentley students cares deeply for those impacted by Covid-19 To do our part we have partnered with the Bentley University emergency Assistance Fund to ensure that all proceeds from our products go directly to helping students in need #COVID19,HS Students: Mrs. Bentley sent out an email today with a Husker Check In form. Please take a few minutes to complete the form. Link is also here: ,We started seeing S550 since 2015, GWagon same, Range Rovers is now like Lexus, How many of ur students have Bentley’s, GLE 450’s, GLA’s BMW I8 and more,I encourage AGH UST students to take part in the Bentley Systems competition - this prize can be won ... both 5000 USD and 2000 USD more details https://communities.bentley.com/communities/other_communities/be_careers_network_for_academia/w/be_careers_network__wiki/43819/digital-infrastructure-student-idea-challenge-2020,Support Bentley Students! ,Just got a pang of nostalgia from the Millbrook Bentley story - I briefly worked there on placement. I was asked to take 3 students interviewing for next years\\' intake on a track tour after the assessment. 1/2,S: and do you know how much that pack costs? G: $14 a pack maybe. Student calculated for a bit on his phone. S: Did you know, if you stoped smoking today, you’d be able to afford that Bentley right there in about 12 years? G: I didn’t. Do you smoke yourself? 2/3,Poor kids, minorities and illegals get school paid for, the Chinese students drive Bentley’s, nobody’s living in the dorms, the maintenance guys are union, the school year isn’t over. Where’s the money going to go?,In between classes, our teachers across Bentley are stepping in to bring campus life home to everyone. In Ms. Almeida\\'s Legtastic Workout - an optional session of yoga, squats, lunges and stretching - our #MiddleSchool students are getting their move on! #remoteteaching,Erin Bentley, a UW second-year master’s student, majoring in botany, will explore the Arctic aboard a research ship next summer. Bentley is one of 40 artists and scientists selected for the program. https://oilcity.news/wyoming/2020/04/15/uw-student-selected-for-arctic-circle-expedition/,Thank you to sales leader @parks6n580 for spending his time last night with my Effective Selling students at Bentley University via Zoom Video Communications - Jeff spoke to the students about a number of topics including: The 3 Why’s in Sales, Target Acc…,And I deserve a Bentley and not paying student loans for 12 yrs ,Thanks for letting me borrow the Bentley for senior prom to flex in front of all the high school students that called me a loser all 4 years man. Appreciate it ,Bentley STAAD Pro V8i Crack Software Download [Free_Student_Training] ,My pup Bentley sent a lovable reminder to my students about virtual office hours. It worked! I must repay him with treats and hugs! #AcademicTwitter #dogsoftwitter #teacherlife,Attention high school seniors & continuing education college students ... The application deadline for our Tom Bentley Memorial Scholarship has been extended! Download an application from the Scholarship tab featured at http://www.midsouthfcu.org/other-services . NEW deadline: Monday, May 18th,Bentley STAAD Pro V8i Crack Software Download [Free_Student_Training] ,Bentley Institute Launches Digital Infrastructure Student Idea Challenge 2020 http://www.dailycadcam.com/bentley-institute-launches-digital-infrastructure-student-idea-challenge-2020/ @BentleyAsia,We have a month left to go in the semester! If you\\'re struggling to find the motivation to finish strong, we have Dr. Jason Bentley from Retention &amp; Student Success giving a presentation on \"Channeling the Power of Motivation\" on Tuesday, April 7 at 11:00-11:50 AM in Science 102. ,Bentley Institute Launches Digital Infrastructure Student Idea Challenge 2020 http://www.dailycadcam.com/bentley-institute-launches-digital-infrastructure-student-idea-challenge-2020/#.XorbBu4b97I.twitter #BentleyInstitute @BentleySystems #digitalinfrastructure #studentideachallenge2020,SO STUDIOUS: Kindergartner Brody Bentley, a student in Mrs. Wissman\\'s class, works on assignments at home amid the Covid-19 extended closure. (Submitted by Kristen Bentley.) #StayConnectedSWCS #NYLearnsRemotely #TeamSouthwestern @mlangworthyswcs @MoDonahue @ThePost_Journal,Math Master teacher Darnese Wilkilnson skillfully teaching our 4th grade scholars division without remainders using the area model followed by class check ins with ELA Master teacher Natalie Adams & my goldendoodle Bentley. We our DPSCD students. ,Bentley Institute “Digital Infrastructure Student Idea Challenge\" https://www.geoconnexion.com/news/bentley-institute-announces-digital-infrastructure-student-idea-challenge-2020/,Tornadoes last night damaged LSU-Alexandria campus. The 40 remaining students on campus are being moved to Hotel Bentley. Twister went thru middle of LSU-A Ag Center destroying DeWitt Livestock facility.,AAU students when they c Delsu student drive Bentley into their school ,That’s what I was thinking. The breakout room feature would be great for smal grp stuff but also if you need to have a side bar convo with a student. Or Bentley does...,The Security Council for the Model UN met last night. Bentley students represented the 15 Member States and negotiated for global support for people suffering from the COVID-19 pandemic. A resolution passed asking all Member States to take action to meet this global challenge. ,It\\'s Motivation Monday, and this week our Motivation comes courtesy of the Math department at Tooele High School! We love the dedication these teachers have to their students! Shoutout to one of our own @UVUSOE grads, Miss Bentley! @tooeleschools,i luved gossip girl even tho i was way past that age group i will watch new gossip girl 4 sure nice 2 see a black woman on the show since some black ppl have coin hope some brown kids on the show many yrs ago i went 2 school w/very rich south american students at Bentley uni MA ,Our Careers Advisor Mrs Bentley has started marking phone calls to all of our year 10 students, to discuss Post-16 options. If you have any questions check out the careers section of our website or contact careers@bruntcliffe.leeds.sch.uk #aspirations #careersadvice #post16,Bo is showing Bentley to one of their students on Zoom, and Bentley just gave me this look like PLEASE GET ME OUTTA HERE. HELP. SOS.,Teachers helping teachers at Oak Hill ES. Thank you to Hunter and Bentley (our Seesaw Ambassadors on campus) for leading our Q&amp;A session today on Seesaw. As always, we are working hard to support our students! Sending you all a virtual high five! @OakHillElem @Seesaw @AustinISD,Our #StudentSpotlight this week is Vanessa Bentley! Vanessa is a computer engineering student at @UUtah with aspirations to explore the world and work internationally. ,Check out Bentley H. from Ms. Deissler\\'s #WeAreKingswood 2nd grade class! For Science the students were reading about the needs of animals and were asked to create a zoo enclosure and he\\'s showing off his! #RemoteLearning #DysartExtraordinary,Attention Seniors! For those accepted to Bentley, they will be holding a virtual Admitted Student Day on Saturday, April 4. There is no need to register. Bentley will send you a link to join by email on Saturday morning. For additional questions, call 781-891-2244. ,4/ Right. Will, Bentley and I took a drive. Not 10, but 11 loads (and three of those were huge commercial washers). So, there we are, all masked &amp; gloved loading laundry as fast as we could. She had her laptop out - a U of M grad student ...,After tornados left LSUA’s campus without power and water, Hotel Bentley opened up their doors to students and Po-Boy Express donated lunch. #CenlaStrong “This is a perfect example of community coming together when our students need it the most.” ,Mrs. Bentley-Porcelli is super proud of her fourth grade student, Suhayb, for going the extra distance on his Earth, Sun, &amp; Moon model by adding on the inner planets! Way to go, Suhayb! ,Ph.D. candidate Matthew Bentley was recently recognized as the top student presenter at the Emerging Contaminants Summit 2020. He was also awarded an honorable mention for the Figueroa Family Fellowship. #Congratulations Read More:,RPHS senior Sheila Pimentel was admitted to University of Pennsylvania, offered a FULL RIDE to Bentley University, and received offers from Carnegie Mellon, Villanova, Northeastern, Boston College, and Notre Dame. Rox Prep is so proud of our student achievements! #RoxPrepRos,We\\'re back with more Getting to Know features with our Bentley student-athletes. Up today is Cara McCarthy from the women\\'s lacrosse team. A junior, she was named 3rd team All-NE10 and Academic All-Conference in 2019. https://bentleyfalcons.com/sports/wlax/2019-20/releases/20200423hjowjt,It is great to see the Year 2 students completing their Music lesson for the week! Composing ta, za and ti-ti patterns to clap. Excellent job, Saanvi and Bentley! #stbathome,The last 2 pictures of Bentley. He crossed the bridge today. He\\'s at peace now. Adopted at 7 just before being killed for being too old, I had him for 10 wonderful years! He made many of my students very happy! I\\'ll miss him every day. ,So I’m literally taking this money to pay off student loans and Bentley’s medical bills, but also saving a part of it. After this I’ll only have one loan and the jeep payment. So close to being debt free! ,New Story: Spring Senior Student-Athlete Spotlight: Shakyra Bentley '"
            ]
          },
          "metadata": {
            "tags": []
          },
          "execution_count": 5
        }
      ]
    },
    {
      "cell_type": "code",
      "metadata": {
        "id": "WJRQ7DysZov6",
        "colab_type": "code",
        "colab": {}
      },
      "source": [
        "# remove stop words and token \n",
        "clean_text=remove_stopwords(string)\n",
        "token=nltk.word_tokenize(clean_text)"
      ],
      "execution_count": 0,
      "outputs": []
    },
    {
      "cell_type": "code",
      "metadata": {
        "id": "nKQMiTaQZxlk",
        "colab_type": "code",
        "colab": {}
      },
      "source": [
        "# stem word \n",
        "ps = PorterStemmer() \n",
        "stem_word = []\n",
        "for w in token: \n",
        "  stem_word.append(ps.stem(w))"
      ],
      "execution_count": 0,
      "outputs": []
    },
    {
      "cell_type": "code",
      "metadata": {
        "id": "_90gZZlWZ4Gq",
        "colab_type": "code",
        "colab": {}
      },
      "source": [
        "# freq dist \n",
        "freq=FreqDist(stem_word)\n",
        "data_freq = pd.DataFrame([freq.keys(),freq.values()]).transpose()\n",
        "data_freq.columns=['word','freq']\n",
        "data_freq.sort_values('freq',ascending=False,inplace=True)\n",
        "data_freq['len']=data_freq['word'].apply(len)"
      ],
      "execution_count": 0,
      "outputs": []
    },
    {
      "cell_type": "code",
      "metadata": {
        "id": "GLxZkRgHaErH",
        "colab_type": "code",
        "colab": {}
      },
      "source": [
        "# choose meaningful words \n",
        "data_freq = data_freq[data_freq['len']>1]"
      ],
      "execution_count": 0,
      "outputs": []
    },
    {
      "cell_type": "code",
      "metadata": {
        "id": "vjI8nufPaEaT",
        "colab_type": "code",
        "outputId": "db67ea7c-ee48-4aa1-f132-de7be2ff2017",
        "colab": {
          "base_uri": "https://localhost:8080/",
          "height": 419
        }
      },
      "source": [
        "# glance at data freq \n",
        "pd.set_option(\"display.max_rows\",500)\n",
        "data_freq"
      ],
      "execution_count": 0,
      "outputs": [
        {
          "output_type": "execute_result",
          "data": {
            "text/html": [
              "<div>\n",
              "<style scoped>\n",
              "    .dataframe tbody tr th:only-of-type {\n",
              "        vertical-align: middle;\n",
              "    }\n",
              "\n",
              "    .dataframe tbody tr th {\n",
              "        vertical-align: top;\n",
              "    }\n",
              "\n",
              "    .dataframe thead th {\n",
              "        text-align: right;\n",
              "    }\n",
              "</style>\n",
              "<table border=\"1\" class=\"dataframe\">\n",
              "  <thead>\n",
              "    <tr style=\"text-align: right;\">\n",
              "      <th></th>\n",
              "      <th>word</th>\n",
              "      <th>freq</th>\n",
              "      <th>len</th>\n",
              "    </tr>\n",
              "  </thead>\n",
              "  <tbody>\n",
              "    <tr>\n",
              "      <th>1</th>\n",
              "      <td>bentley</td>\n",
              "      <td>55</td>\n",
              "      <td>7</td>\n",
              "    </tr>\n",
              "    <tr>\n",
              "      <th>4</th>\n",
              "      <td>student</td>\n",
              "      <td>50</td>\n",
              "      <td>7</td>\n",
              "    </tr>\n",
              "    <tr>\n",
              "      <th>43</th>\n",
              "      <td>http</td>\n",
              "      <td>11</td>\n",
              "      <td>4</td>\n",
              "    </tr>\n",
              "    <tr>\n",
              "      <th>226</th>\n",
              "      <td>'s</td>\n",
              "      <td>7</td>\n",
              "      <td>2</td>\n",
              "    </tr>\n",
              "    <tr>\n",
              "      <th>168</th>\n",
              "      <td>year</td>\n",
              "      <td>7</td>\n",
              "      <td>4</td>\n",
              "    </tr>\n",
              "    <tr>\n",
              "      <th>...</th>\n",
              "      <td>...</td>\n",
              "      <td>...</td>\n",
              "      <td>...</td>\n",
              "    </tr>\n",
              "    <tr>\n",
              "      <th>282</th>\n",
              "      <td>let</td>\n",
              "      <td>1</td>\n",
              "      <td>3</td>\n",
              "    </tr>\n",
              "    <tr>\n",
              "      <th>278</th>\n",
              "      <td>deserv</td>\n",
              "      <td>1</td>\n",
              "      <td>6</td>\n",
              "    </tr>\n",
              "    <tr>\n",
              "      <th>276</th>\n",
              "      <td>acc…</td>\n",
              "      <td>1</td>\n",
              "      <td>4</td>\n",
              "    </tr>\n",
              "    <tr>\n",
              "      <th>275</th>\n",
              "      <td>target</td>\n",
              "      <td>1</td>\n",
              "      <td>6</td>\n",
              "    </tr>\n",
              "    <tr>\n",
              "      <th>681</th>\n",
              "      <td>shakyra</td>\n",
              "      <td>1</td>\n",
              "      <td>7</td>\n",
              "    </tr>\n",
              "  </tbody>\n",
              "</table>\n",
              "<p>646 rows × 3 columns</p>\n",
              "</div>"
            ],
            "text/plain": [
              "        word freq  len\n",
              "1    bentley   55    7\n",
              "4    student   50    7\n",
              "43      http   11    4\n",
              "226       's    7    2\n",
              "168     year    7    4\n",
              "..       ...  ...  ...\n",
              "282      let    1    3\n",
              "278   deserv    1    6\n",
              "276     acc…    1    4\n",
              "275   target    1    6\n",
              "681  shakyra    1    7\n",
              "\n",
              "[646 rows x 3 columns]"
            ]
          },
          "metadata": {
            "tags": []
          },
          "execution_count": 15
        }
      ]
    },
    {
      "cell_type": "code",
      "metadata": {
        "id": "LEGkshSDa4wn",
        "colab_type": "code",
        "outputId": "eb353a41-f0b8-4006-f6e1-3029b460237e",
        "colab": {
          "base_uri": "https://localhost:8080/",
          "height": 282
        }
      },
      "source": [
        "# visualize the result \n",
        "plt.style.use('ggplot')\n",
        "data_freq.set_index('word',drop=True).head(20)['freq'].plot(kind='barh')"
      ],
      "execution_count": 0,
      "outputs": [
        {
          "output_type": "execute_result",
          "data": {
            "text/plain": [
              "<matplotlib.axes._subplots.AxesSubplot at 0x7f8c24ccd7b8>"
            ]
          },
          "metadata": {
            "tags": []
          },
          "execution_count": 23
        },
        {
          "output_type": "display_data",
          "data": {
            "image/png": "[encoded data removed]",
            "text/plain": [
              "<Figure size 432x288 with 1 Axes>"
            ]
          },
          "metadata": {
            "tags": []
          }
        }
      ]
    },
    {
      "cell_type": "code",
      "metadata": {
        "id": "ID0uRhxZcE3u",
        "colab_type": "code",
        "colab": {}
      },
      "source": [
        "#prepare data \n",
        "preprocessor = TfidfVectorizer()\n",
        "preprocessedText = preprocessor.fit_transform(df['tweet'])"
      ],
      "execution_count": 0,
      "outputs": []
    },
    {
      "cell_type": "code",
      "metadata": {
        "id": "-7aJAEqXc7OP",
        "colab_type": "code",
        "colab": {}
      },
      "source": [
        "# Convert sparse matrix to gensim corpus.\n",
        "corpus = gensim.matutils.Sparse2Corpus(preprocessedText, documents_columns=False)"
      ],
      "execution_count": 0,
      "outputs": []
    },
    {
      "cell_type": "code",
      "metadata": {
        "id": "9c3nl801dToo",
        "colab_type": "code",
        "colab": {}
      },
      "source": [
        "# Mapping from word IDs to words (To be used in LdaModel's id2word parameter)\n",
        "id_map = dict((v, k) for k, v in preprocessor.vocabulary_.items())"
      ],
      "execution_count": 0,
      "outputs": []
    },
    {
      "cell_type": "code",
      "metadata": {
        "id": "fP6MJ6rDdXQk",
        "colab_type": "code",
        "colab": {}
      },
      "source": [
        "# Use the gensim.models.ldamodel.LdaModel constructor to estimate \n",
        "# LDA model parameters on the corpus, and save to the variable `ldamodel`\n",
        "ldamodel = gensim.models.ldamodel.LdaModel(corpus, id2word=id_map, num_topics=3, passes=25)"
      ],
      "execution_count": 0,
      "outputs": []
    },
    {
      "cell_type": "code",
      "metadata": {
        "id": "topEpkpudcW8",
        "colab_type": "code",
        "outputId": "bdcfe274-a4e5-4876-f72d-6c4207c03cd6",
        "colab": {
          "base_uri": "https://localhost:8080/",
          "height": 139
        }
      },
      "source": [
        "# Extract Topic Review \n",
        "ldamodel.print_topics(num_topics=10, num_words=10)"
      ],
      "execution_count": 0,
      "outputs": [
        {
          "output_type": "execute_result",
          "data": {
            "text/plain": [
              "[(0,\n",
              "  '0.006*\"to\" + 0.006*\"the\" + 0.004*\"and\" + 0.004*\"students\" + 0.004*\"of\" + 0.004*\"in\" + 0.003*\"bentley\" + 0.003*\"our\" + 0.003*\"me\" + 0.003*\"school\"'),\n",
              " (1,\n",
              "  '0.006*\"student\" + 0.005*\"infrastructure\" + 0.005*\"digital\" + 0.005*\"institute\" + 0.005*\"challenge\" + 0.005*\"idea\" + 0.005*\"2020\" + 0.005*\"bentley\" + 0.004*\"the\" + 0.004*\"https\"'),\n",
              " (2,\n",
              "  '0.005*\"support\" + 0.004*\"bentley\" + 0.004*\"students\" + 0.004*\"our\" + 0.004*\"the\" + 0.004*\"for\" + 0.003*\"of\" + 0.003*\"staad\" + 0.003*\"free_student_training\" + 0.003*\"v8i\"')]"
            ]
          },
          "metadata": {
            "tags": []
          },
          "execution_count": 36
        }
      ]
    },
    {
      "cell_type": "code",
      "metadata": {
        "id": "qtVnrusnvGvZ",
        "colab_type": "code",
        "colab": {}
      },
      "source": [
        "# sentiment analysis \n",
        "polarity = []\n",
        "subjective = []\n",
        "for i in range (0,50,1):\n",
        "  blob = TextBlob(df['tweet'][i])\n",
        "  polarity.append(blob.sentiment.polarity)\n",
        "  subjective.append(blob.sentiment.subjectivity)"
      ],
      "execution_count": 0,
      "outputs": []
    },
    {
      "cell_type": "code",
      "metadata": {
        "id": "Ssi5Zu6CvdRO",
        "colab_type": "code",
        "outputId": "37b48ac2-4276-44a8-9e27-661e93c003a1",
        "colab": {
          "base_uri": "https://localhost:8080/",
          "height": 204
        }
      },
      "source": [
        "df['polarity'] = polarity\n",
        "df['subjective'] = subjective\n",
        "df.head()"
      ],
      "execution_count": 0,
      "outputs": [
        {
          "output_type": "execute_result",
          "data": {
            "text/html": [
              "<div>\n",
              "<style scoped>\n",
              "    .dataframe tbody tr th:only-of-type {\n",
              "        vertical-align: middle;\n",
              "    }\n",
              "\n",
              "    .dataframe tbody tr th {\n",
              "        vertical-align: top;\n",
              "    }\n",
              "\n",
              "    .dataframe thead th {\n",
              "        text-align: right;\n",
              "    }\n",
              "</style>\n",
              "<table border=\"1\" class=\"dataframe\">\n",
              "  <thead>\n",
              "    <tr style=\"text-align: right;\">\n",
              "      <th></th>\n",
              "      <th>username</th>\n",
              "      <th>tweet</th>\n",
              "      <th>time</th>\n",
              "      <th>retweet</th>\n",
              "      <th>fav</th>\n",
              "      <th>polarity</th>\n",
              "      <th>subjective</th>\n",
              "    </tr>\n",
              "  </thead>\n",
              "  <tbody>\n",
              "    <tr>\n",
              "      <th>0</th>\n",
              "      <td>tile</td>\n",
              "      <td>What about the Bentley Continental GT that eve...</td>\n",
              "      <td>2020-04-24 17:34:29+00:00</td>\n",
              "      <td>0</td>\n",
              "      <td>0</td>\n",
              "      <td>0.20</td>\n",
              "      <td>0.54</td>\n",
              "    </tr>\n",
              "    <tr>\n",
              "      <th>1</th>\n",
              "      <td>Bentley_CMT</td>\n",
              "      <td>Help Bentley students raise money for the Bent...</td>\n",
              "      <td>2020-04-24 15:42:59+00:00</td>\n",
              "      <td>0</td>\n",
              "      <td>0</td>\n",
              "      <td>0.00</td>\n",
              "      <td>0.00</td>\n",
              "    </tr>\n",
              "    <tr>\n",
              "      <th>2</th>\n",
              "      <td>CoBrevard</td>\n",
              "      <td>Bentley Institute Announces Digital Infrastruc...</td>\n",
              "      <td>2020-04-24 04:01:32+00:00</td>\n",
              "      <td>0</td>\n",
              "      <td>0</td>\n",
              "      <td>0.00</td>\n",
              "      <td>0.00</td>\n",
              "    </tr>\n",
              "    <tr>\n",
              "      <th>3</th>\n",
              "      <td>directionsmag</td>\n",
              "      <td>\"Bentley Institute announces “Digital Infrastr...</td>\n",
              "      <td>2020-04-23 16:12:27+00:00</td>\n",
              "      <td>0</td>\n",
              "      <td>0</td>\n",
              "      <td>0.00</td>\n",
              "      <td>0.00</td>\n",
              "    </tr>\n",
              "    <tr>\n",
              "      <th>4</th>\n",
              "      <td>AlanCowgill</td>\n",
              "      <td>https://bit.ly/MarcoDeals Well over a decade a...</td>\n",
              "      <td>2020-04-23 01:47:33+00:00</td>\n",
              "      <td>0</td>\n",
              "      <td>0</td>\n",
              "      <td>0.25</td>\n",
              "      <td>0.55</td>\n",
              "    </tr>\n",
              "  </tbody>\n",
              "</table>\n",
              "</div>"
            ],
            "text/plain": [
              "        username  ... subjective\n",
              "0           tile  ...       0.54\n",
              "1    Bentley_CMT  ...       0.00\n",
              "2      CoBrevard  ...       0.00\n",
              "3  directionsmag  ...       0.00\n",
              "4    AlanCowgill  ...       0.55\n",
              "\n",
              "[5 rows x 7 columns]"
            ]
          },
          "metadata": {
            "tags": []
          },
          "execution_count": 38
        }
      ]
    },
    {
      "cell_type": "code",
      "metadata": {
        "id": "qKln0tEMwkRx",
        "colab_type": "code",
        "outputId": "e12ed728-48be-49e6-aa3f-6ad0c5199768",
        "colab": {
          "base_uri": "https://localhost:8080/",
          "height": 299
        }
      },
      "source": [
        "# we use 0 and 0.5 as cutoff \n",
        "# less than 0 should be negative \n",
        "# large than 0.5 should be postitive \n",
        "# betweeen 0 and 0.5 can be netural \n",
        "sns.distplot(df['polarity'])"
      ],
      "execution_count": 0,
      "outputs": [
        {
          "output_type": "execute_result",
          "data": {
            "text/plain": [
              "<matplotlib.axes._subplots.AxesSubplot at 0x7f8c24b825f8>"
            ]
          },
          "metadata": {
            "tags": []
          },
          "execution_count": 39
        },
        {
          "output_type": "display_data",
          "data": {
            "image/png": "[encoded data removed]",
            "text/plain": [
              "<Figure size 432x288 with 1 Axes>"
            ]
          },
          "metadata": {
            "tags": [],
            "needs_background": "light"
          }
        }
      ]
    },
    {
      "cell_type": "code",
      "metadata": {
        "id": "5qdB7ystyosn",
        "colab_type": "code",
        "colab": {}
      },
      "source": [
        "bins = [float('-inf'),0,0.5,float('inf')]\n",
        "df['polarity_class']=pd.cut(df['polarity'],bins = bins, labels=['negative','netural','positive'])"
      ],
      "execution_count": 0,
      "outputs": []
    },
    {
      "cell_type": "code",
      "metadata": {
        "id": "2a0jQ_9Swuz3",
        "colab_type": "code",
        "outputId": "b6b84d80-e472-42db-8e8d-34eba6450faa",
        "colab": {
          "base_uri": "https://localhost:8080/",
          "height": 299
        }
      },
      "source": [
        "# we can use 0.5 as cutoff \n",
        "# large the 0.5 can be identified as subjective \n",
        "# less than 0.5 can be viewed as objective \n",
        "sns.distplot(df['subjective'])"
      ],
      "execution_count": 0,
      "outputs": [
        {
          "output_type": "execute_result",
          "data": {
            "text/plain": [
              "<matplotlib.axes._subplots.AxesSubplot at 0x7f8c24bffac8>"
            ]
          },
          "metadata": {
            "tags": []
          },
          "execution_count": 41
        },
        {
          "output_type": "display_data",
          "data": {
            "image/png": "[encoded data removed]",
            "text/plain": [
              "<Figure size 432x288 with 1 Axes>"
            ]
          },
          "metadata": {
            "tags": [],
            "needs_background": "light"
          }
        }
      ]
    },
    {
      "cell_type": "code",
      "metadata": {
        "id": "8FJjkhbhyXlu",
        "colab_type": "code",
        "colab": {}
      },
      "source": [
        "df['subject_class']=pd.cut(df['subjective'],bins = 2, labels=['objective','subjective'])"
      ],
      "execution_count": 0,
      "outputs": []
    },
    {
      "cell_type": "code",
      "metadata": {
        "id": "5O4F42ADzS5q",
        "colab_type": "code",
        "outputId": "fc2d5dde-2dfa-423d-c154-398587eaafd0",
        "colab": {
          "base_uri": "https://localhost:8080/",
          "height": 299
        }
      },
      "source": [
        "sns.countplot(df['polarity_class'])"
      ],
      "execution_count": 0,
      "outputs": [
        {
          "output_type": "execute_result",
          "data": {
            "text/plain": [
              "<matplotlib.axes._subplots.AxesSubplot at 0x7f8c249036a0>"
            ]
          },
          "metadata": {
            "tags": []
          },
          "execution_count": 43
        },
        {
          "output_type": "display_data",
          "data": {
            "image/png": "[encoded data removed]",
            "text/plain": [
              "<Figure size 432x288 with 1 Axes>"
            ]
          },
          "metadata": {
            "tags": [],
            "needs_background": "light"
          }
        }
      ]
    },
    {
      "cell_type": "code",
      "metadata": {
        "id": "wfQLapTwzhta",
        "colab_type": "code",
        "outputId": "9b1c2e3d-39bd-4c6e-8abe-3a00a01a9e55",
        "colab": {
          "base_uri": "https://localhost:8080/",
          "height": 299
        }
      },
      "source": [
        "sns.countplot(df['subject_class'])"
      ],
      "execution_count": 0,
      "outputs": [
        {
          "output_type": "execute_result",
          "data": {
            "text/plain": [
              "<matplotlib.axes._subplots.AxesSubplot at 0x7f8c24977630>"
            ]
          },
          "metadata": {
            "tags": []
          },
          "execution_count": 44
        },
        {
          "output_type": "display_data",
          "data": {
            "image/png": "[encoded data removed]",
            "text/plain": [
              "<Figure size 432x288 with 1 Axes>"
            ]
          },
          "metadata": {
            "tags": [],
            "needs_background": "light"
          }
        }
      ]
    },
    {
      "cell_type": "code",
      "metadata": {
        "id": "_wC3QTM6znln",
        "colab_type": "code",
        "outputId": "6e418bcd-a19b-4fd7-8569-e1d37e46cfd9",
        "colab": {
          "base_uri": "https://localhost:8080/",
          "height": 824
        }
      },
      "source": [
        "negative = df[df['polarity_class']=='negative'][['tweet','subject_class']]\n",
        "negative"
      ],
      "execution_count": 0,
      "outputs": [
        {
          "output_type": "execute_result",
          "data": {
            "text/html": [
              "<div>\n",
              "<style scoped>\n",
              "    .dataframe tbody tr th:only-of-type {\n",
              "        vertical-align: middle;\n",
              "    }\n",
              "\n",
              "    .dataframe tbody tr th {\n",
              "        vertical-align: top;\n",
              "    }\n",
              "\n",
              "    .dataframe thead th {\n",
              "        text-align: right;\n",
              "    }\n",
              "</style>\n",
              "<table border=\"1\" class=\"dataframe\">\n",
              "  <thead>\n",
              "    <tr style=\"text-align: right;\">\n",
              "      <th></th>\n",
              "      <th>tweet</th>\n",
              "      <th>subject_class</th>\n",
              "    </tr>\n",
              "  </thead>\n",
              "  <tbody>\n",
              "    <tr>\n",
              "      <th>1</th>\n",
              "      <td>Help Bentley students raise money for the Bent...</td>\n",
              "      <td>objective</td>\n",
              "    </tr>\n",
              "    <tr>\n",
              "      <th>2</th>\n",
              "      <td>Bentley Institute Announces Digital Infrastruc...</td>\n",
              "      <td>objective</td>\n",
              "    </tr>\n",
              "    <tr>\n",
              "      <th>3</th>\n",
              "      <td>\"Bentley Institute announces “Digital Infrastr...</td>\n",
              "      <td>objective</td>\n",
              "    </tr>\n",
              "    <tr>\n",
              "      <th>6</th>\n",
              "      <td>HS Students: Mrs. Bentley sent out an email to...</td>\n",
              "      <td>objective</td>\n",
              "    </tr>\n",
              "    <tr>\n",
              "      <th>9</th>\n",
              "      <td>Support Bentley Students!</td>\n",
              "      <td>objective</td>\n",
              "    </tr>\n",
              "    <tr>\n",
              "      <th>10</th>\n",
              "      <td>Just got a pang of nostalgia from the Millbroo...</td>\n",
              "      <td>objective</td>\n",
              "    </tr>\n",
              "    <tr>\n",
              "      <th>12</th>\n",
              "      <td>Poor kids, minorities and illegals get school ...</td>\n",
              "      <td>objective</td>\n",
              "    </tr>\n",
              "    <tr>\n",
              "      <th>13</th>\n",
              "      <td>In between classes, our teachers across Bentle...</td>\n",
              "      <td>objective</td>\n",
              "    </tr>\n",
              "    <tr>\n",
              "      <th>14</th>\n",
              "      <td>Erin Bentley, a UW second-year master’s studen...</td>\n",
              "      <td>objective</td>\n",
              "    </tr>\n",
              "    <tr>\n",
              "      <th>16</th>\n",
              "      <td>And I deserve a Bentley and not paying student...</td>\n",
              "      <td>objective</td>\n",
              "    </tr>\n",
              "    <tr>\n",
              "      <th>18</th>\n",
              "      <td>Bentley STAAD Pro V8i Crack Software Download ...</td>\n",
              "      <td>objective</td>\n",
              "    </tr>\n",
              "    <tr>\n",
              "      <th>21</th>\n",
              "      <td>Bentley STAAD Pro V8i Crack Software Download ...</td>\n",
              "      <td>objective</td>\n",
              "    </tr>\n",
              "    <tr>\n",
              "      <th>22</th>\n",
              "      <td>Bentley Institute Launches Digital Infrastruct...</td>\n",
              "      <td>objective</td>\n",
              "    </tr>\n",
              "    <tr>\n",
              "      <th>24</th>\n",
              "      <td>Bentley Institute Launches Digital Infrastruct...</td>\n",
              "      <td>objective</td>\n",
              "    </tr>\n",
              "    <tr>\n",
              "      <th>25</th>\n",
              "      <td>SO STUDIOUS: Kindergartner Brody Bentley, a st...</td>\n",
              "      <td>objective</td>\n",
              "    </tr>\n",
              "    <tr>\n",
              "      <th>26</th>\n",
              "      <td>Math Master teacher Darnese Wilkilnson skillfu...</td>\n",
              "      <td>objective</td>\n",
              "    </tr>\n",
              "    <tr>\n",
              "      <th>27</th>\n",
              "      <td>Bentley Institute “Digital Infrastructure Stud...</td>\n",
              "      <td>objective</td>\n",
              "    </tr>\n",
              "    <tr>\n",
              "      <th>28</th>\n",
              "      <td>Tornadoes last night damaged LSU-Alexandria ca...</td>\n",
              "      <td>objective</td>\n",
              "    </tr>\n",
              "    <tr>\n",
              "      <th>29</th>\n",
              "      <td>AAU students when they c Delsu student drive B...</td>\n",
              "      <td>objective</td>\n",
              "    </tr>\n",
              "    <tr>\n",
              "      <th>34</th>\n",
              "      <td>Our Careers Advisor Mrs Bentley has started ma...</td>\n",
              "      <td>objective</td>\n",
              "    </tr>\n",
              "    <tr>\n",
              "      <th>35</th>\n",
              "      <td>Bo is showing Bentley to one of their students...</td>\n",
              "      <td>objective</td>\n",
              "    </tr>\n",
              "    <tr>\n",
              "      <th>36</th>\n",
              "      <td>Teachers helping teachers at Oak Hill ES. Than...</td>\n",
              "      <td>subjective</td>\n",
              "    </tr>\n",
              "    <tr>\n",
              "      <th>37</th>\n",
              "      <td>Our #StudentSpotlight this week is Vanessa Ben...</td>\n",
              "      <td>objective</td>\n",
              "    </tr>\n",
              "    <tr>\n",
              "      <th>38</th>\n",
              "      <td>Check out Bentley H. from Ms. Deissler's #WeAr...</td>\n",
              "      <td>objective</td>\n",
              "    </tr>\n",
              "    <tr>\n",
              "      <th>39</th>\n",
              "      <td>Attention Seniors! For those accepted to Bentl...</td>\n",
              "      <td>objective</td>\n",
              "    </tr>\n",
              "  </tbody>\n",
              "</table>\n",
              "</div>"
            ],
            "text/plain": [
              "                                                tweet subject_class\n",
              "1   Help Bentley students raise money for the Bent...     objective\n",
              "2   Bentley Institute Announces Digital Infrastruc...     objective\n",
              "3   \"Bentley Institute announces “Digital Infrastr...     objective\n",
              "6   HS Students: Mrs. Bentley sent out an email to...     objective\n",
              "9                          Support Bentley Students!      objective\n",
              "10  Just got a pang of nostalgia from the Millbroo...     objective\n",
              "12  Poor kids, minorities and illegals get school ...     objective\n",
              "13  In between classes, our teachers across Bentle...     objective\n",
              "14  Erin Bentley, a UW second-year master’s studen...     objective\n",
              "16  And I deserve a Bentley and not paying student...     objective\n",
              "18  Bentley STAAD Pro V8i Crack Software Download ...     objective\n",
              "21  Bentley STAAD Pro V8i Crack Software Download ...     objective\n",
              "22  Bentley Institute Launches Digital Infrastruct...     objective\n",
              "24  Bentley Institute Launches Digital Infrastruct...     objective\n",
              "25  SO STUDIOUS: Kindergartner Brody Bentley, a st...     objective\n",
              "26  Math Master teacher Darnese Wilkilnson skillfu...     objective\n",
              "27  Bentley Institute “Digital Infrastructure Stud...     objective\n",
              "28  Tornadoes last night damaged LSU-Alexandria ca...     objective\n",
              "29  AAU students when they c Delsu student drive B...     objective\n",
              "34  Our Careers Advisor Mrs Bentley has started ma...     objective\n",
              "35  Bo is showing Bentley to one of their students...     objective\n",
              "36  Teachers helping teachers at Oak Hill ES. Than...    subjective\n",
              "37  Our #StudentSpotlight this week is Vanessa Ben...     objective\n",
              "38  Check out Bentley H. from Ms. Deissler's #WeAr...     objective\n",
              "39  Attention Seniors! For those accepted to Bentl...     objective"
            ]
          },
          "metadata": {
            "tags": []
          },
          "execution_count": 45
        }
      ]
    },
    {
      "cell_type": "code",
      "metadata": {
        "id": "PCMyl1UWiWRm",
        "colab_type": "code",
        "outputId": "4334f589-1557-4f54-b525-1d14fe1d12f4",
        "colab": {
          "base_uri": "https://localhost:8080/",
          "height": 54
        }
      },
      "source": [
        "# take a look at negative tweet \n",
        "negative['tweet'][36]"
      ],
      "execution_count": 0,
      "outputs": [
        {
          "output_type": "execute_result",
          "data": {
            "text/plain": [
              "'Teachers helping teachers at Oak Hill ES. Thank you to Hunter and Bentley (our Seesaw Ambassadors on campus) for leading our Q&amp;A session today on Seesaw. As always, we are working hard to support our students! Sending you all a virtual high five! @OakHillElem @Seesaw @AustinISD'"
            ]
          },
          "metadata": {
            "tags": []
          },
          "execution_count": 59
        }
      ]
    },
    {
      "cell_type": "code",
      "metadata": {
        "id": "nAXPrk1shBQS",
        "colab_type": "code",
        "outputId": "f6d5024b-f24e-4594-a5a5-5b31f8cdc4ce",
        "colab": {
          "base_uri": "https://localhost:8080/",
          "height": 54
        }
      },
      "source": [
        "# extract tweet\n",
        "tweet=list(negative['tweet'])\n",
        "string = \",\".join(tweet)\n",
        "string"
      ],
      "execution_count": 0,
      "outputs": [
        {
          "output_type": "execute_result",
          "data": {
            "text/plain": [
              "'Help Bentley students raise money for the Bentley Emergency Assistance Fund (EAF) to help out students in dire financial straits. Visit and share their online pop-up store at https://keep-the-beat-going.myshopify.com Hurry the store closes on April 29th! #keetthebeatgoing #bentleyuniversity,Bentley Institute Announces Digital Infrastructure Student Challenge https://ift.tt/3cJuyQl #roofing #florida #brevardcounty,\"Bentley Institute announces “Digital Infrastructure Student Idea Challenge 2020”\" https://www.directionsmag.com/pressrelease/9744 #GIS,HS Students: Mrs. Bentley sent out an email today with a Husker Check In form. Please take a few minutes to complete the form. Link is also here: ,Support Bentley Students! ,Just got a pang of nostalgia from the Millbrook Bentley story - I briefly worked there on placement. I was asked to take 3 students interviewing for next years\\' intake on a track tour after the assessment. 1/2,Poor kids, minorities and illegals get school paid for, the Chinese students drive Bentley’s, nobody’s living in the dorms, the maintenance guys are union, the school year isn’t over. Where’s the money going to go?,In between classes, our teachers across Bentley are stepping in to bring campus life home to everyone. In Ms. Almeida\\'s Legtastic Workout - an optional session of yoga, squats, lunges and stretching - our #MiddleSchool students are getting their move on! #remoteteaching,Erin Bentley, a UW second-year master’s student, majoring in botany, will explore the Arctic aboard a research ship next summer. Bentley is one of 40 artists and scientists selected for the program. https://oilcity.news/wyoming/2020/04/15/uw-student-selected-for-arctic-circle-expedition/,And I deserve a Bentley and not paying student loans for 12 yrs ,Bentley STAAD Pro V8i Crack Software Download [Free_Student_Training] ,Bentley STAAD Pro V8i Crack Software Download [Free_Student_Training] ,Bentley Institute Launches Digital Infrastructure Student Idea Challenge 2020 http://www.dailycadcam.com/bentley-institute-launches-digital-infrastructure-student-idea-challenge-2020/ @BentleyAsia,Bentley Institute Launches Digital Infrastructure Student Idea Challenge 2020 http://www.dailycadcam.com/bentley-institute-launches-digital-infrastructure-student-idea-challenge-2020/#.XorbBu4b97I.twitter #BentleyInstitute @BentleySystems #digitalinfrastructure #studentideachallenge2020,SO STUDIOUS: Kindergartner Brody Bentley, a student in Mrs. Wissman\\'s class, works on assignments at home amid the Covid-19 extended closure. (Submitted by Kristen Bentley.) #StayConnectedSWCS #NYLearnsRemotely #TeamSouthwestern @mlangworthyswcs @MoDonahue @ThePost_Journal,Math Master teacher Darnese Wilkilnson skillfully teaching our 4th grade scholars division without remainders using the area model followed by class check ins with ELA Master teacher Natalie Adams & my goldendoodle Bentley. We our DPSCD students. ,Bentley Institute “Digital Infrastructure Student Idea Challenge\" https://www.geoconnexion.com/news/bentley-institute-announces-digital-infrastructure-student-idea-challenge-2020/,Tornadoes last night damaged LSU-Alexandria campus. The 40 remaining students on campus are being moved to Hotel Bentley. Twister went thru middle of LSU-A Ag Center destroying DeWitt Livestock facility.,AAU students when they c Delsu student drive Bentley into their school ,Our Careers Advisor Mrs Bentley has started marking phone calls to all of our year 10 students, to discuss Post-16 options. If you have any questions check out the careers section of our website or contact careers@bruntcliffe.leeds.sch.uk #aspirations #careersadvice #post16,Bo is showing Bentley to one of their students on Zoom, and Bentley just gave me this look like PLEASE GET ME OUTTA HERE. HELP. SOS.,Teachers helping teachers at Oak Hill ES. Thank you to Hunter and Bentley (our Seesaw Ambassadors on campus) for leading our Q&amp;A session today on Seesaw. As always, we are working hard to support our students! Sending you all a virtual high five! @OakHillElem @Seesaw @AustinISD,Our #StudentSpotlight this week is Vanessa Bentley! Vanessa is a computer engineering student at @UUtah with aspirations to explore the world and work internationally. ,Check out Bentley H. from Ms. Deissler\\'s #WeAreKingswood 2nd grade class! For Science the students were reading about the needs of animals and were asked to create a zoo enclosure and he\\'s showing off his! #RemoteLearning #DysartExtraordinary,Attention Seniors! For those accepted to Bentley, they will be holding a virtual Admitted Student Day on Saturday, April 4. There is no need to register. Bentley will send you a link to join by email on Saturday morning. For additional questions, call 781-891-2244. '"
            ]
          },
          "metadata": {
            "tags": []
          },
          "execution_count": 46
        }
      ]
    },
    {
      "cell_type": "code",
      "metadata": {
        "id": "7vv4xcbEhHQv",
        "colab_type": "code",
        "colab": {}
      },
      "source": [
        "# remove stop words and token \n",
        "clean_text=remove_stopwords(string)\n",
        "token=nltk.word_tokenize(clean_text)"
      ],
      "execution_count": 0,
      "outputs": []
    },
    {
      "cell_type": "code",
      "metadata": {
        "id": "raTJieIVhKuY",
        "colab_type": "code",
        "colab": {}
      },
      "source": [
        "# stem word \n",
        "ps = PorterStemmer() \n",
        "stem_word = []\n",
        "for w in token: \n",
        "  stem_word.append(ps.stem(w))"
      ],
      "execution_count": 0,
      "outputs": []
    },
    {
      "cell_type": "code",
      "metadata": {
        "id": "USYM-ABNhOjE",
        "colab_type": "code",
        "colab": {}
      },
      "source": [
        "# freq dist \n",
        "freq=FreqDist(stem_word)\n",
        "data_freq = pd.DataFrame([freq.keys(),freq.values()]).transpose()\n",
        "data_freq.columns=['word','freq']\n",
        "data_freq.sort_values('freq',ascending=False,inplace=True)\n",
        "data_freq['len']=data_freq['word'].apply(len)"
      ],
      "execution_count": 0,
      "outputs": []
    },
    {
      "cell_type": "code",
      "metadata": {
        "id": "zGCXiqBdhSSi",
        "colab_type": "code",
        "colab": {}
      },
      "source": [
        "# choose meaningful words \n",
        "data_freq = data_freq[data_freq['len']>1]"
      ],
      "execution_count": 0,
      "outputs": []
    },
    {
      "cell_type": "code",
      "metadata": {
        "id": "qEgW4tVuhToS",
        "colab_type": "code",
        "outputId": "ccbc96cf-c71b-4b57-da8c-67d0692f8e87",
        "colab": {
          "base_uri": "https://localhost:8080/",
          "height": 282
        }
      },
      "source": [
        "#glance negative tweet data freq \n",
        "data_freq.set_index('word',drop=True).head(25)['freq'].plot(kind='barh')"
      ],
      "execution_count": 0,
      "outputs": [
        {
          "output_type": "execute_result",
          "data": {
            "text/plain": [
              "<matplotlib.axes._subplots.AxesSubplot at 0x7f8c24903390>"
            ]
          },
          "metadata": {
            "tags": []
          },
          "execution_count": 53
        },
        {
          "output_type": "display_data",
          "data": {
            "image/png": "[encoded data removed]",
            "text/plain": [
              "<Figure size 432x288 with 1 Axes>"
            ]
          },
          "metadata": {
            "tags": [],
            "needs_background": "light"
          }
        }
      ]
    },
    {
      "cell_type": "markdown",
      "metadata": {
        "id": "UZ2fChDxx8OD",
        "colab_type": "text"
      },
      "source": [
        "**Hash tag**\n",
        "'#academictwitter','#aspirations','#bentleyinstitute','#bentleyuniversity,bentley','#brevardcounty,\"bentley','#careersadvice','#cenlastrong','#congratulations','#covid19,hs','#digitalinfrastructure','#dogsoftwitter','#dysartextraordinary,attention','#florida','#gis,https://bit.ly/marcodeals',\n",
        " '#keetthebeatgoing','#middleschool','#nylearnsremotely','#post16,bo','#remotelearning','#remoteteaching,erin','#roofing',\"#roxprepros,we're\",'#stayconnectedswcs','#stbathome,the','#studentideachallenge2020,so','#studentspotlight','#teacherlife,attention','#teamsouthwestern','#wearekingswood',"
      ]
    },
    {
      "cell_type": "markdown",
      "metadata": {
        "id": "GF3EC4RbyZox",
        "colab_type": "text"
      },
      "source": [
        "**at **\n",
        "\n",
        "@austinisd,our',\n",
        " '@bentleyasia,we',\n",
        " '@bentleysystems',\n",
        " '@mlangworthyswcs',\n",
        " '@modonahue',\n",
        " '@oakhillelem',\n",
        " '@parks6n580',\n",
        " '@seesaw',\n",
        " '@thepost_journal,math',\n",
        " '@tooeleschools,i',\n",
        " '@uutah',\n",
        " '@uvusoe',"
      ]
    }
  ]
}