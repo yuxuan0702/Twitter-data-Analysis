{
  "nbformat": 4,
  "nbformat_minor": 0,
  "metadata": {
    "colab": {
      "name": "network and text.ipynb",
      "provenance": [],
      "mount_file_id": "1fqhwUqvGbVphwphjiR66D_xph2GFvwP7",
      "authorship_tag": "ABX9TyMZ20AFHaHHuqHNB8Cs4EIE",
      "include_colab_link": true
    },
    "kernelspec": {
      "name": "python3",
      "display_name": "Python 3"
    }
  },
  "cells": [
    {
      "cell_type": "markdown",
      "metadata": {
        "id": "view-in-github",
        "colab_type": "text"
      },
      "source": [
        "<a href=\"https://colab.research.google.com/github/yuxuan0702/Twitter-data-Analysis/blob/master/network_and_text.ipynb\" target=\"_parent\"><img src=\"https://colab.research.google.com/assets/colab-badge.svg\" alt=\"Open In Colab\"/></a>"
      ]
    },
    {
      "cell_type": "code",
      "metadata": {
        "id": "W196YbU1swVA",
        "colab_type": "code",
        "outputId": "5f7208f4-eea9-4a9e-c8e4-f0d086c02e45",
        "colab": {
          "base_uri": "https://localhost:8080/",
          "height": 207
        }
      },
      "source": [
        "# basic analysis packages \n",
        "import pandas as pd \n",
        "import numpy as np \n",
        "import seaborn as sns \n",
        "import matplotlib.pyplot as plt\n",
        "\n",
        "# network analysis packages \n",
        "import networkx as nx \n",
        "\n",
        "# text mining analysis packages \n",
        "import nltk\n",
        "import gensim\n",
        "from nltk.corpus import stopwords\n",
        "from gensim import corpora\n",
        "from gensim.parsing.preprocessing import remove_stopwords\n",
        "from nltk.probability import FreqDist\n",
        "from nltk.stem import PorterStemmer\n",
        "from textblob import TextBlob\n",
        "from sklearn.feature_extraction.text import TfidfVectorizer\n",
        "from sklearn.feature_extraction.text import CountVectorizer\n",
        "\n",
        "nltk.download('averaged_perceptron_tagger')\n",
        "nltk.download('punkt')\n",
        "nltk.download('stopwords')\n",
        "\n",
        "%matplotlib inline"
      ],
      "execution_count": 0,
      "outputs": [
        {
          "output_type": "stream",
          "text": [
            "/usr/local/lib/python3.6/dist-packages/statsmodels/tools/_testing.py:19: FutureWarning: pandas.util.testing is deprecated. Use the functions in the public API at pandas.testing instead.\n",
            "  import pandas.util.testing as tm\n"
          ],
          "name": "stderr"
        },
        {
          "output_type": "stream",
          "text": [
            "[nltk_data] Downloading package averaged_perceptron_tagger to\n",
            "[nltk_data]     /root/nltk_data...\n",
            "[nltk_data]   Package averaged_perceptron_tagger is already up-to-\n",
            "[nltk_data]       date!\n",
            "[nltk_data] Downloading package punkt to /root/nltk_data...\n",
            "[nltk_data]   Package punkt is already up-to-date!\n",
            "[nltk_data] Downloading package stopwords to /root/nltk_data...\n",
            "[nltk_data]   Package stopwords is already up-to-date!\n"
          ],
          "name": "stdout"
        }
      ]
    },
    {
      "cell_type": "markdown",
      "metadata": {
        "id": "6V1eMcauVFaS",
        "colab_type": "text"
      },
      "source": [
        "# Social Network Analysis "
      ]
    },
    {
      "cell_type": "code",
      "metadata": {
        "id": "a4thXNqztFGE",
        "colab_type": "code",
        "outputId": "b08dbf6b-d804-4b10-c8fd-ba1f45e21ae6",
        "colab": {
          "base_uri": "https://localhost:8080/",
          "height": 204
        }
      },
      "source": [
        "# import extract data \n",
        "df=pd.read_csv('/content/drive/My Drive/第四个学期/MA710/social network/network.csv')\n",
        "df.head()"
      ],
      "execution_count": 0,
      "outputs": [
        {
          "output_type": "execute_result",
          "data": {
            "text/html": [
              "<div>\n",
              "<style scoped>\n",
              "    .dataframe tbody tr th:only-of-type {\n",
              "        vertical-align: middle;\n",
              "    }\n",
              "\n",
              "    .dataframe tbody tr th {\n",
              "        vertical-align: top;\n",
              "    }\n",
              "\n",
              "    .dataframe thead th {\n",
              "        text-align: right;\n",
              "    }\n",
              "</style>\n",
              "<table border=\"1\" class=\"dataframe\">\n",
              "  <thead>\n",
              "    <tr style=\"text-align: right;\">\n",
              "      <th></th>\n",
              "      <th>ID</th>\n",
              "      <th>from</th>\n",
              "      <th>to</th>\n",
              "      <th>Value</th>\n",
              "    </tr>\n",
              "  </thead>\n",
              "  <tbody>\n",
              "    <tr>\n",
              "      <th>0</th>\n",
              "      <td>1</td>\n",
              "      <td>unfoxmycablebox</td>\n",
              "      <td>tile</td>\n",
              "      <td>1</td>\n",
              "    </tr>\n",
              "    <tr>\n",
              "      <th>1</th>\n",
              "      <td>2</td>\n",
              "      <td>MSNBC</td>\n",
              "      <td>tile</td>\n",
              "      <td>1</td>\n",
              "    </tr>\n",
              "    <tr>\n",
              "      <th>2</th>\n",
              "      <td>3</td>\n",
              "      <td>chrislhayes</td>\n",
              "      <td>tile</td>\n",
              "      <td>1</td>\n",
              "    </tr>\n",
              "    <tr>\n",
              "      <th>3</th>\n",
              "      <td>4</td>\n",
              "      <td>blue_mitchell22</td>\n",
              "      <td>tile</td>\n",
              "      <td>1</td>\n",
              "    </tr>\n",
              "    <tr>\n",
              "      <th>4</th>\n",
              "      <td>5</td>\n",
              "      <td>MikeBloomberg</td>\n",
              "      <td>tile</td>\n",
              "      <td>1</td>\n",
              "    </tr>\n",
              "  </tbody>\n",
              "</table>\n",
              "</div>"
            ],
            "text/plain": [
              "   ID             from    to  Value\n",
              "0   1  unfoxmycablebox  tile      1\n",
              "1   2            MSNBC  tile      1\n",
              "2   3      chrislhayes  tile      1\n",
              "3   4  blue_mitchell22  tile      1\n",
              "4   5    MikeBloomberg  tile      1"
            ]
          },
          "metadata": {
            "tags": []
          },
          "execution_count": 2
        }
      ]
    },
    {
      "cell_type": "code",
      "metadata": {
        "id": "I-YGggxrN97h",
        "colab_type": "code",
        "outputId": "ba0a52fa-2a7d-46f2-a580-2dd60a718e69",
        "colab": {
          "base_uri": "https://localhost:8080/",
          "height": 282
        }
      },
      "source": [
        "#most following person \n",
        "plt.style.use('ggplot')\n",
        "df['from'].value_counts().head(10).plot(kind='barh')"
      ],
      "execution_count": 0,
      "outputs": [
        {
          "output_type": "execute_result",
          "data": {
            "text/plain": [
              "<matplotlib.axes._subplots.AxesSubplot at 0x7f15cbeb66d8>"
            ]
          },
          "metadata": {
            "tags": []
          },
          "execution_count": 3
        },
        {
          "output_type": "display_data",
          "data": {
            "image/png": "[encoded data removed]",
            "text/plain": [
              "<Figure size 432x288 with 1 Axes>"
            ]
          },
          "metadata": {
            "tags": []
          }
        }
      ]
    },
    {
      "cell_type": "code",
      "metadata": {
        "id": "QtvIWPFetQAC",
        "colab_type": "code",
        "colab": {}
      },
      "source": [
        "# construct network object \n",
        "G = nx.from_pandas_edgelist(df,'to','from')"
      ],
      "execution_count": 0,
      "outputs": []
    },
    {
      "cell_type": "code",
      "metadata": {
        "id": "ZrOq6_QtThFV",
        "colab_type": "code",
        "outputId": "255bc79d-a5ac-411f-85a0-ae9014534b65",
        "colab": {
          "base_uri": "https://localhost:8080/",
          "height": 34
        }
      },
      "source": [
        "# calculate max degree node \n",
        "degree = nx.degree_centrality(G)\n",
        "print(max(degree.keys(), key=lambda x:degree[x]))"
      ],
      "execution_count": 0,
      "outputs": [
        {
          "output_type": "stream",
          "text": [
            "MarkBallardCnb\n"
          ],
          "name": "stdout"
        }
      ]
    },
    {
      "cell_type": "code",
      "metadata": {
        "id": "8UAPEpYXVC6g",
        "colab_type": "code",
        "outputId": "97b6544c-46ef-439a-9cca-cf70523927ee",
        "colab": {
          "base_uri": "https://localhost:8080/",
          "height": 34
        }
      },
      "source": [
        "degree['MarkBallardCnb']"
      ],
      "execution_count": 0,
      "outputs": [
        {
          "output_type": "execute_result",
          "data": {
            "text/plain": [
              "0.09016018306636156"
            ]
          },
          "metadata": {
            "tags": []
          },
          "execution_count": 6
        }
      ]
    },
    {
      "cell_type": "code",
      "metadata": {
        "id": "WFZPQ8h6Vjvc",
        "colab_type": "code",
        "outputId": "19f40f46-b282-48eb-b158-3ce74c53b96e",
        "colab": {
          "base_uri": "https://localhost:8080/",
          "height": 34
        }
      },
      "source": [
        "# calculate max closeness node \n",
        "Closeness = nx.closeness_centrality(G)\n",
        "print(max(Closeness.keys(), key=lambda x:Closeness[x]))"
      ],
      "execution_count": 0,
      "outputs": [
        {
          "output_type": "stream",
          "text": [
            "BarackObama\n"
          ],
          "name": "stdout"
        }
      ]
    },
    {
      "cell_type": "code",
      "metadata": {
        "id": "hhl1fdVmWLya",
        "colab_type": "code",
        "outputId": "03ed436b-51bb-4759-80e2-4fdee9e2d9d5",
        "colab": {
          "base_uri": "https://localhost:8080/",
          "height": 34
        }
      },
      "source": [
        "Closeness['BarackObama']"
      ],
      "execution_count": 0,
      "outputs": [
        {
          "output_type": "execute_result",
          "data": {
            "text/plain": [
              "0.3394467647893551"
            ]
          },
          "metadata": {
            "tags": []
          },
          "execution_count": 8
        }
      ]
    },
    {
      "cell_type": "code",
      "metadata": {
        "id": "0lKgrlnQV-r_",
        "colab_type": "code",
        "outputId": "a0445eac-2735-43cc-9e37-0a0d6751d371",
        "colab": {
          "base_uri": "https://localhost:8080/",
          "height": 34
        }
      },
      "source": [
        "# calculate max betweeness centrality \n",
        "between = nx.betweenness_centrality(G)\n",
        "print(max(between.keys(), key=lambda x:between[x]))"
      ],
      "execution_count": 0,
      "outputs": [
        {
          "output_type": "stream",
          "text": [
            "BarackObama\n"
          ],
          "name": "stdout"
        }
      ]
    },
    {
      "cell_type": "code",
      "metadata": {
        "id": "nhR0LaxSXTh_",
        "colab_type": "code",
        "outputId": "002df477-e206-4ed3-ca4c-2569f8754ec0",
        "colab": {
          "base_uri": "https://localhost:8080/",
          "height": 34
        }
      },
      "source": [
        "print(max(between.keys(), key=lambda x:between[x]))"
      ],
      "execution_count": 0,
      "outputs": [
        {
          "output_type": "stream",
          "text": [
            "BarackObama\n"
          ],
          "name": "stdout"
        }
      ]
    },
    {
      "cell_type": "code",
      "metadata": {
        "id": "p5Yv5sbAWVb2",
        "colab_type": "code",
        "outputId": "cd4e6ba3-fbd7-4681-d10c-a8b0cb4adbb9",
        "colab": {
          "base_uri": "https://localhost:8080/",
          "height": 34
        }
      },
      "source": [
        "# calculate max eigenvector centrality \n",
        "eigen = nx.eigenvector_centrality(G, tol=1e-2)\n",
        "print(max(eigen.keys(), key=lambda x:eigen[x]))"
      ],
      "execution_count": 0,
      "outputs": [
        {
          "output_type": "stream",
          "text": [
            "MarkBallardCnb\n"
          ],
          "name": "stdout"
        }
      ]
    },
    {
      "cell_type": "code",
      "metadata": {
        "id": "xxV98DODXiqY",
        "colab_type": "code",
        "outputId": "cc12d176-5dbc-4395-e87a-d3f73caa3d58",
        "colab": {
          "base_uri": "https://localhost:8080/",
          "height": 34
        }
      },
      "source": [
        "eigen['MarkBallardCnb']"
      ],
      "execution_count": 0,
      "outputs": [
        {
          "output_type": "execute_result",
          "data": {
            "text/plain": [
              "0.36432790552194133"
            ]
          },
          "metadata": {
            "tags": []
          },
          "execution_count": 12
        }
      ]
    },
    {
      "cell_type": "markdown",
      "metadata": {
        "id": "wZL2u6x4VI3a",
        "colab_type": "text"
      },
      "source": [
        "# Text Analysis "
      ]
    },
    {
      "cell_type": "code",
      "metadata": {
        "id": "mLPpgTjUVNE6",
        "colab_type": "code",
        "outputId": "d522f7b7-f9c0-47d8-e4b8-d5f632c614f5",
        "colab": {
          "base_uri": "https://localhost:8080/",
          "height": 204
        }
      },
      "source": [
        "# import dataset \n",
        "df = pd.read_csv('/content/drive/My Drive/第四个学期/MA710/social network/data.csv',index_col=[0])\n",
        "df.head()"
      ],
      "execution_count": 0,
      "outputs": [
        {
          "output_type": "execute_result",
          "data": {
            "text/html": [
              "<div>\n",
              "<style scoped>\n",
              "    .dataframe tbody tr th:only-of-type {\n",
              "        vertical-align: middle;\n",
              "    }\n",
              "\n",
              "    .dataframe tbody tr th {\n",
              "        vertical-align: top;\n",
              "    }\n",
              "\n",
              "    .dataframe thead th {\n",
              "        text-align: right;\n",
              "    }\n",
              "</style>\n",
              "<table border=\"1\" class=\"dataframe\">\n",
              "  <thead>\n",
              "    <tr style=\"text-align: right;\">\n",
              "      <th></th>\n",
              "      <th>username</th>\n",
              "      <th>tweet</th>\n",
              "      <th>time</th>\n",
              "      <th>retweet</th>\n",
              "      <th>fav</th>\n",
              "    </tr>\n",
              "  </thead>\n",
              "  <tbody>\n",
              "    <tr>\n",
              "      <th>0</th>\n",
              "      <td>tile</td>\n",
              "      <td>What about the Bentley Continental GT that eve...</td>\n",
              "      <td>2020-04-24 17:34:29+00:00</td>\n",
              "      <td>0</td>\n",
              "      <td>0</td>\n",
              "    </tr>\n",
              "    <tr>\n",
              "      <th>1</th>\n",
              "      <td>Bentley_CMT</td>\n",
              "      <td>Help Bentley students raise money for the Bent...</td>\n",
              "      <td>2020-04-24 15:42:59+00:00</td>\n",
              "      <td>0</td>\n",
              "      <td>0</td>\n",
              "    </tr>\n",
              "    <tr>\n",
              "      <th>2</th>\n",
              "      <td>CoBrevard</td>\n",
              "      <td>Bentley Institute Announces Digital Infrastruc...</td>\n",
              "      <td>2020-04-24 04:01:32+00:00</td>\n",
              "      <td>0</td>\n",
              "      <td>0</td>\n",
              "    </tr>\n",
              "    <tr>\n",
              "      <th>3</th>\n",
              "      <td>directionsmag</td>\n",
              "      <td>\"Bentley Institute announces “Digital Infrastr...</td>\n",
              "      <td>2020-04-23 16:12:27+00:00</td>\n",
              "      <td>0</td>\n",
              "      <td>0</td>\n",
              "    </tr>\n",
              "    <tr>\n",
              "      <th>4</th>\n",
              "      <td>AlanCowgill</td>\n",
              "      <td>https://bit.ly/MarcoDeals Well over a decade a...</td>\n",
              "      <td>2020-04-23 01:47:33+00:00</td>\n",
              "      <td>0</td>\n",
              "      <td>0</td>\n",
              "    </tr>\n",
              "  </tbody>\n",
              "</table>\n",
              "</div>"
            ],
            "text/plain": [
              "        username  ... fav\n",
              "0           tile  ...   0\n",
              "1    Bentley_CMT  ...   0\n",
              "2      CoBrevard  ...   0\n",
              "3  directionsmag  ...   0\n",
              "4    AlanCowgill  ...   0\n",
              "\n",
              "[5 rows x 5 columns]"
            ]
          },
          "metadata": {
            "tags": []
          },
          "execution_count": 13
        }
      ]
    },
    {
      "cell_type": "markdown",
      "metadata": {
        "id": "_nZUWVoNWo3p",
        "colab_type": "text"
      },
      "source": [
        "## General Analysis "
      ]
    },
    {
      "cell_type": "code",
      "metadata": {
        "id": "JJ4MDAIMW3ii",
        "colab_type": "code",
        "outputId": "93828b61-b251-4df4-d4e6-b94cd15b9877",
        "colab": {
          "base_uri": "https://localhost:8080/",
          "height": 299
        }
      },
      "source": [
        "sns.distplot(df['fav'])"
      ],
      "execution_count": 0,
      "outputs": [
        {
          "output_type": "execute_result",
          "data": {
            "text/plain": [
              "<matplotlib.axes._subplots.AxesSubplot at 0x7f15cb95fd68>"
            ]
          },
          "metadata": {
            "tags": []
          },
          "execution_count": 14
        },
        {
          "output_type": "display_data",
          "data": {
            "image/png": "[encoded data removed]",
            "text/plain": [
              "<Figure size 432x288 with 1 Axes>"
            ]
          },
          "metadata": {
            "tags": []
          }
        }
      ]
    },
    {
      "cell_type": "code",
      "metadata": {
        "id": "fT_kNALZW_iD",
        "colab_type": "code",
        "colab": {}
      },
      "source": [
        "# convert to datetime \n",
        "df['time']=pd.to_datetime(df['time'])\n",
        "df['time']=df['time'].dt.date"
      ],
      "execution_count": 0,
      "outputs": []
    },
    {
      "cell_type": "code",
      "metadata": {
        "id": "CmMm3Ob4YMW6",
        "colab_type": "code",
        "outputId": "b5b60dd7-9cfa-46a2-dec5-64131ba4e604",
        "colab": {
          "base_uri": "https://localhost:8080/",
          "height": 408
        }
      },
      "source": [
        "# time distribution \n",
        "plt.figure(figsize=(8,6))\n",
        "df.groupby('time')['username'].count().plot()"
      ],
      "execution_count": 0,
      "outputs": [
        {
          "output_type": "execute_result",
          "data": {
            "text/plain": [
              "<matplotlib.axes._subplots.AxesSubplot at 0x7f15cb48fb00>"
            ]
          },
          "metadata": {
            "tags": []
          },
          "execution_count": 17
        },
        {
          "output_type": "display_data",
          "data": {
            "image/png": "[encoded data removed]",
            "text/plain": [
              "<Figure size 576x432 with 1 Axes>"
            ]
          },
          "metadata": {
            "tags": []
          }
        }
      ]
    },
    {
      "cell_type": "markdown",
      "metadata": {
        "id": "NlUzDDv-Wrcy",
        "colab_type": "text"
      },
      "source": [
        "## Word Frequency "
      ]
    },
    {
      "cell_type": "code",
      "metadata": {
        "id": "CykmvlWDVSIr",
        "colab_type": "code",
        "outputId": "a2e906e7-5fba-4559-ffa5-52c78b47cba0",
        "colab": {
          "base_uri": "https://localhost:8080/",
          "height": 54
        }
      },
      "source": [
        "# extract tweet\n",
        "tweet=list(df['tweet'])\n",
        "string = \",\".join(tweet)\n",
        "string"
      ],
      "execution_count": 0,
      "outputs": [
        {
          "output_type": "execute_result",
          "data": {
            "text/plain": [
              "'What about the Bentley Continental GT that every student athlete got too? Some of them got beachfront homes too!!! Why focus on crappy headphones? Aim high and grab the brass ring with your stories man!,Help Bentley students raise money for the Bentley Emergency Assistance Fund (EAF) to help out students in dire financial straits. Visit and share their online pop-up store at https://keep-the-beat-going.myshopify.com Hurry the store closes on April 29th! #keetthebeatgoing #bentleyuniversity,Bentley Institute Announces Digital Infrastructure Student Challenge https://ift.tt/3cJuyQl #roofing #florida #brevardcounty,\"Bentley Institute announces “Digital Infrastructure Student Idea Challenge 2020”\" https://www.directionsmag.com/pressrelease/9744 #GIS,https://bit.ly/MarcoDeals Well over a decade ago I met a guy named Marco. I met his family. His children are named Bentley and Mercedes, which I found memorable I have watched him travel all over the world helping his students-teaches how to do big deals ,Our Keep The Beat Going team of Bentley students cares deeply for those impacted by Covid-19 To do our part we have partnered with the Bentley University emergency Assistance Fund to ensure that all proceeds from our products go directly to helping students in need #COVID19,HS Students: Mrs. Bentley sent out an email today with a Husker Check In form. Please take a few minutes to complete the form. Link is also here: ,We started seeing S550 since 2015, GWagon same, Range Rovers is now like Lexus, How many of ur students have Bentley’s, GLE 450’s, GLA’s BMW I8 and more,I encourage AGH UST students to take part in the Bentley Systems competition - this prize can be won ... both 5000 USD and 2000 USD more details https://communities.bentley.com/communities/other_communities/be_careers_network_for_academia/w/be_careers_network__wiki/43819/digital-infrastructure-student-idea-challenge-2020,Support Bentley Students! ,Just got a pang of nostalgia from the Millbrook Bentley story - I briefly worked there on placement. I was asked to take 3 students interviewing for next years\\' intake on a track tour after the assessment. 1/2,S: and do you know how much that pack costs? G: $14 a pack maybe. Student calculated for a bit on his phone. S: Did you know, if you stoped smoking today, you’d be able to afford that Bentley right there in about 12 years? G: I didn’t. Do you smoke yourself? 2/3,Poor kids, minorities and illegals get school paid for, the Chinese students drive Bentley’s, nobody’s living in the dorms, the maintenance guys are union, the school year isn’t over. Where’s the money going to go?,In between classes, our teachers across Bentley are stepping in to bring campus life home to everyone. In Ms. Almeida\\'s Legtastic Workout - an optional session of yoga, squats, lunges and stretching - our #MiddleSchool students are getting their move on! #remoteteaching,Erin Bentley, a UW second-year master’s student, majoring in botany, will explore the Arctic aboard a research ship next summer. Bentley is one of 40 artists and scientists selected for the program. https://oilcity.news/wyoming/2020/04/15/uw-student-selected-for-arctic-circle-expedition/,Thank you to sales leader @parks6n580 for spending his time last night with my Effective Selling students at Bentley University via Zoom Video Communications - Jeff spoke to the students about a number of topics including: The 3 Why’s in Sales, Target Acc…,And I deserve a Bentley and not paying student loans for 12 yrs ,Thanks for letting me borrow the Bentley for senior prom to flex in front of all the high school students that called me a loser all 4 years man. Appreciate it ,Bentley STAAD Pro V8i Crack Software Download [Free_Student_Training] ,My pup Bentley sent a lovable reminder to my students about virtual office hours. It worked! I must repay him with treats and hugs! #AcademicTwitter #dogsoftwitter #teacherlife,Attention high school seniors & continuing education college students ... The application deadline for our Tom Bentley Memorial Scholarship has been extended! Download an application from the Scholarship tab featured at http://www.midsouthfcu.org/other-services . NEW deadline: Monday, May 18th,Bentley STAAD Pro V8i Crack Software Download [Free_Student_Training] ,Bentley Institute Launches Digital Infrastructure Student Idea Challenge 2020 http://www.dailycadcam.com/bentley-institute-launches-digital-infrastructure-student-idea-challenge-2020/ @BentleyAsia,We have a month left to go in the semester! If you\\'re struggling to find the motivation to finish strong, we have Dr. Jason Bentley from Retention &amp; Student Success giving a presentation on \"Channeling the Power of Motivation\" on Tuesday, April 7 at 11:00-11:50 AM in Science 102. ,Bentley Institute Launches Digital Infrastructure Student Idea Challenge 2020 http://www.dailycadcam.com/bentley-institute-launches-digital-infrastructure-student-idea-challenge-2020/#.XorbBu4b97I.twitter #BentleyInstitute @BentleySystems #digitalinfrastructure #studentideachallenge2020,SO STUDIOUS: Kindergartner Brody Bentley, a student in Mrs. Wissman\\'s class, works on assignments at home amid the Covid-19 extended closure. (Submitted by Kristen Bentley.) #StayConnectedSWCS #NYLearnsRemotely #TeamSouthwestern @mlangworthyswcs @MoDonahue @ThePost_Journal,Math Master teacher Darnese Wilkilnson skillfully teaching our 4th grade scholars division without remainders using the area model followed by class check ins with ELA Master teacher Natalie Adams & my goldendoodle Bentley. We our DPSCD students. ,Bentley Institute “Digital Infrastructure Student Idea Challenge\" https://www.geoconnexion.com/news/bentley-institute-announces-digital-infrastructure-student-idea-challenge-2020/,Tornadoes last night damaged LSU-Alexandria campus. The 40 remaining students on campus are being moved to Hotel Bentley. Twister went thru middle of LSU-A Ag Center destroying DeWitt Livestock facility.,AAU students when they c Delsu student drive Bentley into their school ,That’s what I was thinking. The breakout room feature would be great for smal grp stuff but also if you need to have a side bar convo with a student. Or Bentley does...,The Security Council for the Model UN met last night. Bentley students represented the 15 Member States and negotiated for global support for people suffering from the COVID-19 pandemic. A resolution passed asking all Member States to take action to meet this global challenge. ,It\\'s Motivation Monday, and this week our Motivation comes courtesy of the Math department at Tooele High School! We love the dedication these teachers have to their students! Shoutout to one of our own @UVUSOE grads, Miss Bentley! @tooeleschools,i luved gossip girl even tho i was way past that age group i will watch new gossip girl 4 sure nice 2 see a black woman on the show since some black ppl have coin hope some brown kids on the show many yrs ago i went 2 school w/very rich south american students at Bentley uni MA ,Our Careers Advisor Mrs Bentley has started marking phone calls to all of our year 10 students, to discuss Post-16 options. If you have any questions check out the careers section of our website or contact careers@bruntcliffe.leeds.sch.uk #aspirations #careersadvice #post16,Bo is showing Bentley to one of their students on Zoom, and Bentley just gave me this look like PLEASE GET ME OUTTA HERE. HELP. SOS.,Teachers helping teachers at Oak Hill ES. Thank you to Hunter and Bentley (our Seesaw Ambassadors on campus) for leading our Q&amp;A session today on Seesaw. As always, we are working hard to support our students! Sending you all a virtual high five! @OakHillElem @Seesaw @AustinISD,Our #StudentSpotlight this week is Vanessa Bentley! Vanessa is a computer engineering student at @UUtah with aspirations to explore the world and work internationally. ,Check out Bentley H. from Ms. Deissler\\'s #WeAreKingswood 2nd grade class! For Science the students were reading about the needs of animals and were asked to create a zoo enclosure and he\\'s showing off his! #RemoteLearning #DysartExtraordinary,Attention Seniors! For those accepted to Bentley, they will be holding a virtual Admitted Student Day on Saturday, April 4. There is no need to register. Bentley will send you a link to join by email on Saturday morning. For additional questions, call 781-891-2244. ,4/ Right. Will, Bentley and I took a drive. Not 10, but 11 loads (and three of those were huge commercial washers). So, there we are, all masked &amp; gloved loading laundry as fast as we could. She had her laptop out - a U of M grad student ...,After tornados left LSUA’s campus without power and water, Hotel Bentley opened up their doors to students and Po-Boy Express donated lunch. #CenlaStrong “This is a perfect example of community coming together when our students need it the most.” ,Mrs. Bentley-Porcelli is super proud of her fourth grade student, Suhayb, for going the extra distance on his Earth, Sun, &amp; Moon model by adding on the inner planets! Way to go, Suhayb! ,Ph.D. candidate Matthew Bentley was recently recognized as the top student presenter at the Emerging Contaminants Summit 2020. He was also awarded an honorable mention for the Figueroa Family Fellowship. #Congratulations Read More:,RPHS senior Sheila Pimentel was admitted to University of Pennsylvania, offered a FULL RIDE to Bentley University, and received offers from Carnegie Mellon, Villanova, Northeastern, Boston College, and Notre Dame. Rox Prep is so proud of our student achievements! #RoxPrepRos,We\\'re back with more Getting to Know features with our Bentley student-athletes. Up today is Cara McCarthy from the women\\'s lacrosse team. A junior, she was named 3rd team All-NE10 and Academic All-Conference in 2019. https://bentleyfalcons.com/sports/wlax/2019-20/releases/20200423hjowjt,It is great to see the Year 2 students completing their Music lesson for the week! Composing ta, za and ti-ti patterns to clap. Excellent job, Saanvi and Bentley! #stbathome,The last 2 pictures of Bentley. He crossed the bridge today. He\\'s at peace now. Adopted at 7 just before being killed for being too old, I had him for 10 wonderful years! He made many of my students very happy! I\\'ll miss him every day. ,So I’m literally taking this money to pay off student loans and Bentley’s medical bills, but also saving a part of it. After this I’ll only have one loan and the jeep payment. So close to being debt free! ,New Story: Spring Senior Student-Athlete Spotlight: Shakyra Bentley '"
            ]
          },
          "metadata": {
            "tags": []
          },
          "execution_count": 18
        }
      ]
    },
    {
      "cell_type": "code",
      "metadata": {
        "id": "RoYOAsLIVUhq",
        "colab_type": "code",
        "colab": {}
      },
      "source": [
        "# remove stop words and token \n",
        "clean_text=remove_stopwords(string)\n",
        "token=nltk.word_tokenize(clean_text)"
      ],
      "execution_count": 0,
      "outputs": []
    },
    {
      "cell_type": "code",
      "metadata": {
        "id": "1pTSNSYaVcez",
        "colab_type": "code",
        "colab": {}
      },
      "source": [
        "# stem word \n",
        "ps = PorterStemmer() \n",
        "stem_word = []\n",
        "for w in token: \n",
        "  stem_word.append(ps.stem(w))"
      ],
      "execution_count": 0,
      "outputs": []
    },
    {
      "cell_type": "code",
      "metadata": {
        "id": "0Xgz3mK6Vf2s",
        "colab_type": "code",
        "colab": {}
      },
      "source": [
        "# freq dist \n",
        "freq=FreqDist(stem_word)\n",
        "data_freq = pd.DataFrame([freq.keys(),freq.values()]).transpose()\n",
        "data_freq.columns=['word','freq']\n",
        "data_freq.sort_values('freq',ascending=False,inplace=True)\n",
        "data_freq['len']=data_freq['word'].apply(len)"
      ],
      "execution_count": 0,
      "outputs": []
    },
    {
      "cell_type": "code",
      "metadata": {
        "id": "UY-dQHfMVhpo",
        "colab_type": "code",
        "colab": {}
      },
      "source": [
        "# choose meaningful words \n",
        "data_freq = data_freq[data_freq['len']>1]"
      ],
      "execution_count": 0,
      "outputs": []
    },
    {
      "cell_type": "code",
      "metadata": {
        "id": "KZiJso-0VjO9",
        "colab_type": "code",
        "outputId": "b7040b77-1ffb-4ef6-b845-0030dd580a12",
        "colab": {
          "base_uri": "https://localhost:8080/",
          "height": 419
        }
      },
      "source": [
        "# glance at data freq \n",
        "pd.set_option(\"display.max_rows\",500)\n",
        "data_freq"
      ],
      "execution_count": 0,
      "outputs": [
        {
          "output_type": "execute_result",
          "data": {
            "text/html": [
              "<div>\n",
              "<style scoped>\n",
              "    .dataframe tbody tr th:only-of-type {\n",
              "        vertical-align: middle;\n",
              "    }\n",
              "\n",
              "    .dataframe tbody tr th {\n",
              "        vertical-align: top;\n",
              "    }\n",
              "\n",
              "    .dataframe thead th {\n",
              "        text-align: right;\n",
              "    }\n",
              "</style>\n",
              "<table border=\"1\" class=\"dataframe\">\n",
              "  <thead>\n",
              "    <tr style=\"text-align: right;\">\n",
              "      <th></th>\n",
              "      <th>word</th>\n",
              "      <th>freq</th>\n",
              "      <th>len</th>\n",
              "    </tr>\n",
              "  </thead>\n",
              "  <tbody>\n",
              "    <tr>\n",
              "      <th>1</th>\n",
              "      <td>bentley</td>\n",
              "      <td>55</td>\n",
              "      <td>7</td>\n",
              "    </tr>\n",
              "    <tr>\n",
              "      <th>4</th>\n",
              "      <td>student</td>\n",
              "      <td>50</td>\n",
              "      <td>7</td>\n",
              "    </tr>\n",
              "    <tr>\n",
              "      <th>43</th>\n",
              "      <td>http</td>\n",
              "      <td>11</td>\n",
              "      <td>4</td>\n",
              "    </tr>\n",
              "    <tr>\n",
              "      <th>226</th>\n",
              "      <td>'s</td>\n",
              "      <td>7</td>\n",
              "      <td>2</td>\n",
              "    </tr>\n",
              "    <tr>\n",
              "      <th>168</th>\n",
              "      <td>year</td>\n",
              "      <td>7</td>\n",
              "      <td>4</td>\n",
              "    </tr>\n",
              "    <tr>\n",
              "      <th>...</th>\n",
              "      <td>...</td>\n",
              "      <td>...</td>\n",
              "      <td>...</td>\n",
              "    </tr>\n",
              "    <tr>\n",
              "      <th>282</th>\n",
              "      <td>let</td>\n",
              "      <td>1</td>\n",
              "      <td>3</td>\n",
              "    </tr>\n",
              "    <tr>\n",
              "      <th>278</th>\n",
              "      <td>deserv</td>\n",
              "      <td>1</td>\n",
              "      <td>6</td>\n",
              "    </tr>\n",
              "    <tr>\n",
              "      <th>276</th>\n",
              "      <td>acc…</td>\n",
              "      <td>1</td>\n",
              "      <td>4</td>\n",
              "    </tr>\n",
              "    <tr>\n",
              "      <th>275</th>\n",
              "      <td>target</td>\n",
              "      <td>1</td>\n",
              "      <td>6</td>\n",
              "    </tr>\n",
              "    <tr>\n",
              "      <th>681</th>\n",
              "      <td>shakyra</td>\n",
              "      <td>1</td>\n",
              "      <td>7</td>\n",
              "    </tr>\n",
              "  </tbody>\n",
              "</table>\n",
              "<p>646 rows × 3 columns</p>\n",
              "</div>"
            ],
            "text/plain": [
              "        word freq  len\n",
              "1    bentley   55    7\n",
              "4    student   50    7\n",
              "43      http   11    4\n",
              "226       's    7    2\n",
              "168     year    7    4\n",
              "..       ...  ...  ...\n",
              "282      let    1    3\n",
              "278   deserv    1    6\n",
              "276     acc…    1    4\n",
              "275   target    1    6\n",
              "681  shakyra    1    7\n",
              "\n",
              "[646 rows x 3 columns]"
            ]
          },
          "metadata": {
            "tags": []
          },
          "execution_count": 23
        }
      ]
    },
    {
      "cell_type": "code",
      "metadata": {
        "id": "0d-OIHORVlD7",
        "colab_type": "code",
        "outputId": "48183f56-9dba-44ba-f119-1ff54e470c4e",
        "colab": {
          "base_uri": "https://localhost:8080/",
          "height": 282
        }
      },
      "source": [
        "# visualize the result \n",
        "plt.style.use('ggplot')\n",
        "data_freq.set_index('word',drop=True).head(20)['freq'].plot(kind='barh')"
      ],
      "execution_count": 0,
      "outputs": [
        {
          "output_type": "execute_result",
          "data": {
            "text/plain": [
              "<matplotlib.axes._subplots.AxesSubplot at 0x7f15cb0b9668>"
            ]
          },
          "metadata": {
            "tags": []
          },
          "execution_count": 24
        },
        {
          "output_type": "display_data",
          "data": {
            "image/png": "[encoded data removed]",
            "text/plain": [
              "<Figure size 432x288 with 1 Axes>"
            ]
          },
          "metadata": {
            "tags": []
          }
        }
      ]
    },
    {
      "cell_type": "markdown",
      "metadata": {
        "id": "s9OhImP9WvkJ",
        "colab_type": "text"
      },
      "source": [
        "## Extract Topic "
      ]
    },
    {
      "cell_type": "code",
      "metadata": {
        "id": "CYkvGwdoVpRY",
        "colab_type": "code",
        "colab": {}
      },
      "source": [
        "#prepare data \n",
        "preprocessor = TfidfVectorizer()\n",
        "preprocessedText = preprocessor.fit_transform(df['tweet'])"
      ],
      "execution_count": 0,
      "outputs": []
    },
    {
      "cell_type": "code",
      "metadata": {
        "id": "CGrNeAFUVt4u",
        "colab_type": "code",
        "colab": {}
      },
      "source": [
        "# Convert sparse matrix to gensim corpus.\n",
        "corpus = gensim.matutils.Sparse2Corpus(preprocessedText, documents_columns=False)"
      ],
      "execution_count": 0,
      "outputs": []
    },
    {
      "cell_type": "code",
      "metadata": {
        "id": "2P4az9MVVv0P",
        "colab_type": "code",
        "colab": {}
      },
      "source": [
        "# Mapping from word IDs to words (To be used in LdaModel's id2word parameter)\n",
        "id_map = dict((v, k) for k, v in preprocessor.vocabulary_.items())"
      ],
      "execution_count": 0,
      "outputs": []
    },
    {
      "cell_type": "code",
      "metadata": {
        "id": "Nk1Ut1O0VySR",
        "colab_type": "code",
        "colab": {}
      },
      "source": [
        "# Use the gensim.models.ldamodel.LdaModel constructor to estimate \n",
        "# LDA model parameters on the corpus, and save to the variable `ldamodel`\n",
        "ldamodel = gensim.models.ldamodel.LdaModel(corpus, id2word=id_map, num_topics=3, passes=25)"
      ],
      "execution_count": 0,
      "outputs": []
    },
    {
      "cell_type": "code",
      "metadata": {
        "id": "bh7fzWALV0m5",
        "colab_type": "code",
        "outputId": "54789553-ed59-45cf-ab83-bdaed23c3b86",
        "colab": {
          "base_uri": "https://localhost:8080/",
          "height": 139
        }
      },
      "source": [
        "# Extract Topic Review \n",
        "ldamodel.print_topics(num_topics=10, num_words=10)"
      ],
      "execution_count": 0,
      "outputs": [
        {
          "output_type": "execute_result",
          "data": {
            "text/plain": [
              "[(0,\n",
              "  '0.005*\"digital\" + 0.005*\"infrastructure\" + 0.005*\"institute\" + 0.005*\"challenge\" + 0.005*\"idea\" + 0.005*\"bentley\" + 0.005*\"2020\" + 0.004*\"student\" + 0.004*\"the\" + 0.004*\"https\"'),\n",
              " (1,\n",
              "  '0.004*\"the\" + 0.004*\"and\" + 0.004*\"to\" + 0.004*\"bentley\" + 0.004*\"student\" + 0.004*\"of\" + 0.003*\"at\" + 0.003*\"is\" + 0.003*\"for\" + 0.003*\"he\"'),\n",
              " (2,\n",
              "  '0.005*\"the\" + 0.005*\"students\" + 0.005*\"to\" + 0.004*\"support\" + 0.004*\"bentley\" + 0.004*\"our\" + 0.004*\"on\" + 0.003*\"for\" + 0.003*\"you\" + 0.003*\"their\"')]"
            ]
          },
          "metadata": {
            "tags": []
          },
          "execution_count": 29
        }
      ]
    },
    {
      "cell_type": "markdown",
      "metadata": {
        "id": "W611HYlXWyhA",
        "colab_type": "text"
      },
      "source": [
        "## Sentiment Analysis "
      ]
    },
    {
      "cell_type": "code",
      "metadata": {
        "id": "YjwnqRRlV340",
        "colab_type": "code",
        "colab": {}
      },
      "source": [
        "# sentiment analysis \n",
        "polarity = []\n",
        "subjective = []\n",
        "for i in range (0,50,1):\n",
        "  blob = TextBlob(df['tweet'][i])\n",
        "  polarity.append(blob.sentiment.polarity)\n",
        "  subjective.append(blob.sentiment.subjectivity)"
      ],
      "execution_count": 0,
      "outputs": []
    },
    {
      "cell_type": "code",
      "metadata": {
        "id": "Ag0y8qKzV6PY",
        "colab_type": "code",
        "outputId": "2ce188f6-7110-4063-e77e-654d18cc9ecc",
        "colab": {
          "base_uri": "https://localhost:8080/",
          "height": 204
        }
      },
      "source": [
        "df['polarity'] = polarity\n",
        "df['subjective'] = subjective\n",
        "df.head()"
      ],
      "execution_count": 0,
      "outputs": [
        {
          "output_type": "execute_result",
          "data": {
            "text/html": [
              "<div>\n",
              "<style scoped>\n",
              "    .dataframe tbody tr th:only-of-type {\n",
              "        vertical-align: middle;\n",
              "    }\n",
              "\n",
              "    .dataframe tbody tr th {\n",
              "        vertical-align: top;\n",
              "    }\n",
              "\n",
              "    .dataframe thead th {\n",
              "        text-align: right;\n",
              "    }\n",
              "</style>\n",
              "<table border=\"1\" class=\"dataframe\">\n",
              "  <thead>\n",
              "    <tr style=\"text-align: right;\">\n",
              "      <th></th>\n",
              "      <th>username</th>\n",
              "      <th>tweet</th>\n",
              "      <th>time</th>\n",
              "      <th>retweet</th>\n",
              "      <th>fav</th>\n",
              "      <th>polarity</th>\n",
              "      <th>subjective</th>\n",
              "    </tr>\n",
              "  </thead>\n",
              "  <tbody>\n",
              "    <tr>\n",
              "      <th>0</th>\n",
              "      <td>tile</td>\n",
              "      <td>What about the Bentley Continental GT that eve...</td>\n",
              "      <td>2020-04-24</td>\n",
              "      <td>0</td>\n",
              "      <td>0</td>\n",
              "      <td>0.20</td>\n",
              "      <td>0.54</td>\n",
              "    </tr>\n",
              "    <tr>\n",
              "      <th>1</th>\n",
              "      <td>Bentley_CMT</td>\n",
              "      <td>Help Bentley students raise money for the Bent...</td>\n",
              "      <td>2020-04-24</td>\n",
              "      <td>0</td>\n",
              "      <td>0</td>\n",
              "      <td>0.00</td>\n",
              "      <td>0.00</td>\n",
              "    </tr>\n",
              "    <tr>\n",
              "      <th>2</th>\n",
              "      <td>CoBrevard</td>\n",
              "      <td>Bentley Institute Announces Digital Infrastruc...</td>\n",
              "      <td>2020-04-24</td>\n",
              "      <td>0</td>\n",
              "      <td>0</td>\n",
              "      <td>0.00</td>\n",
              "      <td>0.00</td>\n",
              "    </tr>\n",
              "    <tr>\n",
              "      <th>3</th>\n",
              "      <td>directionsmag</td>\n",
              "      <td>\"Bentley Institute announces “Digital Infrastr...</td>\n",
              "      <td>2020-04-23</td>\n",
              "      <td>0</td>\n",
              "      <td>0</td>\n",
              "      <td>0.00</td>\n",
              "      <td>0.00</td>\n",
              "    </tr>\n",
              "    <tr>\n",
              "      <th>4</th>\n",
              "      <td>AlanCowgill</td>\n",
              "      <td>https://bit.ly/MarcoDeals Well over a decade a...</td>\n",
              "      <td>2020-04-23</td>\n",
              "      <td>0</td>\n",
              "      <td>0</td>\n",
              "      <td>0.25</td>\n",
              "      <td>0.55</td>\n",
              "    </tr>\n",
              "  </tbody>\n",
              "</table>\n",
              "</div>"
            ],
            "text/plain": [
              "        username  ... subjective\n",
              "0           tile  ...       0.54\n",
              "1    Bentley_CMT  ...       0.00\n",
              "2      CoBrevard  ...       0.00\n",
              "3  directionsmag  ...       0.00\n",
              "4    AlanCowgill  ...       0.55\n",
              "\n",
              "[5 rows x 7 columns]"
            ]
          },
          "metadata": {
            "tags": []
          },
          "execution_count": 31
        }
      ]
    },
    {
      "cell_type": "code",
      "metadata": {
        "id": "sUtj1zNoV8vf",
        "colab_type": "code",
        "outputId": "fb32013f-dbea-4bbc-c2ee-13808d9a188b",
        "colab": {
          "base_uri": "https://localhost:8080/",
          "height": 282
        }
      },
      "source": [
        "# we use 0 and 0.5 as cutoff \n",
        "# less than 0 should be negative \n",
        "# large than 0.5 should be postitive \n",
        "# betweeen 0 and 0.5 can be netural \n",
        "sns.distplot(df['polarity'])\n",
        "bins = [float('-inf'),0,0.5,float('inf')]\n",
        "df['polarity_class']=pd.cut(df['polarity'],bins = bins, labels=['negative','netural','positive'])"
      ],
      "execution_count": 0,
      "outputs": [
        {
          "output_type": "display_data",
          "data": {
            "image/png": "[encoded data removed]",
            "text/plain": [
              "<Figure size 432x288 with 1 Axes>"
            ]
          },
          "metadata": {
            "tags": []
          }
        }
      ]
    },
    {
      "cell_type": "code",
      "metadata": {
        "id": "6WGj9HGlWAka",
        "colab_type": "code",
        "outputId": "cd8bedf8-8d62-48b1-a8a0-102b08154d4e",
        "colab": {
          "base_uri": "https://localhost:8080/",
          "height": 282
        }
      },
      "source": [
        "# we can use 0.5 as cutoff \n",
        "# large the 0.5 can be identified as subjective \n",
        "# less than 0.5 can be viewed as objective \n",
        "sns.distplot(df['subjective'])\n",
        "df['subject_class']=pd.cut(df['subjective'],bins = 2, labels=['objective','subjective'])"
      ],
      "execution_count": 0,
      "outputs": [
        {
          "output_type": "display_data",
          "data": {
            "image/png": "[encoded data removed]",
            "text/plain": [
              "<Figure size 432x288 with 1 Axes>"
            ]
          },
          "metadata": {
            "tags": []
          }
        }
      ]
    },
    {
      "cell_type": "code",
      "metadata": {
        "id": "QzNfChJXWEjB",
        "colab_type": "code",
        "outputId": "46ef928a-64b5-4480-8059-5eac0b868f9f",
        "colab": {
          "base_uri": "https://localhost:8080/",
          "height": 299
        }
      },
      "source": [
        "# visualize polarity class \n",
        "sns.countplot(df['polarity_class'])"
      ],
      "execution_count": 0,
      "outputs": [
        {
          "output_type": "execute_result",
          "data": {
            "text/plain": [
              "<matplotlib.axes._subplots.AxesSubplot at 0x7f15cad7add8>"
            ]
          },
          "metadata": {
            "tags": []
          },
          "execution_count": 37
        },
        {
          "output_type": "display_data",
          "data": {
            "image/png": "[encoded data removed]",
            "text/plain": [
              "<Figure size 432x288 with 1 Axes>"
            ]
          },
          "metadata": {
            "tags": []
          }
        }
      ]
    },
    {
      "cell_type": "code",
      "metadata": {
        "id": "oS9CrTwzWLEG",
        "colab_type": "code",
        "outputId": "9da798d5-c5fa-4c70-d33c-515af08d3541",
        "colab": {
          "base_uri": "https://localhost:8080/",
          "height": 299
        }
      },
      "source": [
        "sns.countplot(df['subject_class'])"
      ],
      "execution_count": 0,
      "outputs": [
        {
          "output_type": "execute_result",
          "data": {
            "text/plain": [
              "<matplotlib.axes._subplots.AxesSubplot at 0x7f15cad47240>"
            ]
          },
          "metadata": {
            "tags": []
          },
          "execution_count": 34
        },
        {
          "output_type": "display_data",
          "data": {
            "image/png": "[encoded data removed]",
            "text/plain": [
              "<Figure size 432x288 with 1 Axes>"
            ]
          },
          "metadata": {
            "tags": []
          }
        }
      ]
    },
    {
      "cell_type": "code",
      "metadata": {
        "id": "rAy2J9WlWNoY",
        "colab_type": "code",
        "outputId": "35c80b93-f87d-499c-c0d5-2b46dc5c3d41",
        "colab": {
          "base_uri": "https://localhost:8080/",
          "height": 824
        }
      },
      "source": [
        "# take a view at negative class \n",
        "negative = df[df['polarity_class']=='negative'][['tweet','subject_class']]\n",
        "negative"
      ],
      "execution_count": 0,
      "outputs": [
        {
          "output_type": "execute_result",
          "data": {
            "text/html": [
              "<div>\n",
              "<style scoped>\n",
              "    .dataframe tbody tr th:only-of-type {\n",
              "        vertical-align: middle;\n",
              "    }\n",
              "\n",
              "    .dataframe tbody tr th {\n",
              "        vertical-align: top;\n",
              "    }\n",
              "\n",
              "    .dataframe thead th {\n",
              "        text-align: right;\n",
              "    }\n",
              "</style>\n",
              "<table border=\"1\" class=\"dataframe\">\n",
              "  <thead>\n",
              "    <tr style=\"text-align: right;\">\n",
              "      <th></th>\n",
              "      <th>tweet</th>\n",
              "      <th>subject_class</th>\n",
              "    </tr>\n",
              "  </thead>\n",
              "  <tbody>\n",
              "    <tr>\n",
              "      <th>1</th>\n",
              "      <td>Help Bentley students raise money for the Bent...</td>\n",
              "      <td>objective</td>\n",
              "    </tr>\n",
              "    <tr>\n",
              "      <th>2</th>\n",
              "      <td>Bentley Institute Announces Digital Infrastruc...</td>\n",
              "      <td>objective</td>\n",
              "    </tr>\n",
              "    <tr>\n",
              "      <th>3</th>\n",
              "      <td>\"Bentley Institute announces “Digital Infrastr...</td>\n",
              "      <td>objective</td>\n",
              "    </tr>\n",
              "    <tr>\n",
              "      <th>6</th>\n",
              "      <td>HS Students: Mrs. Bentley sent out an email to...</td>\n",
              "      <td>objective</td>\n",
              "    </tr>\n",
              "    <tr>\n",
              "      <th>9</th>\n",
              "      <td>Support Bentley Students!</td>\n",
              "      <td>objective</td>\n",
              "    </tr>\n",
              "    <tr>\n",
              "      <th>10</th>\n",
              "      <td>Just got a pang of nostalgia from the Millbroo...</td>\n",
              "      <td>objective</td>\n",
              "    </tr>\n",
              "    <tr>\n",
              "      <th>12</th>\n",
              "      <td>Poor kids, minorities and illegals get school ...</td>\n",
              "      <td>objective</td>\n",
              "    </tr>\n",
              "    <tr>\n",
              "      <th>13</th>\n",
              "      <td>In between classes, our teachers across Bentle...</td>\n",
              "      <td>objective</td>\n",
              "    </tr>\n",
              "    <tr>\n",
              "      <th>14</th>\n",
              "      <td>Erin Bentley, a UW second-year master’s studen...</td>\n",
              "      <td>objective</td>\n",
              "    </tr>\n",
              "    <tr>\n",
              "      <th>16</th>\n",
              "      <td>And I deserve a Bentley and not paying student...</td>\n",
              "      <td>objective</td>\n",
              "    </tr>\n",
              "    <tr>\n",
              "      <th>18</th>\n",
              "      <td>Bentley STAAD Pro V8i Crack Software Download ...</td>\n",
              "      <td>objective</td>\n",
              "    </tr>\n",
              "    <tr>\n",
              "      <th>21</th>\n",
              "      <td>Bentley STAAD Pro V8i Crack Software Download ...</td>\n",
              "      <td>objective</td>\n",
              "    </tr>\n",
              "    <tr>\n",
              "      <th>22</th>\n",
              "      <td>Bentley Institute Launches Digital Infrastruct...</td>\n",
              "      <td>objective</td>\n",
              "    </tr>\n",
              "    <tr>\n",
              "      <th>24</th>\n",
              "      <td>Bentley Institute Launches Digital Infrastruct...</td>\n",
              "      <td>objective</td>\n",
              "    </tr>\n",
              "    <tr>\n",
              "      <th>25</th>\n",
              "      <td>SO STUDIOUS: Kindergartner Brody Bentley, a st...</td>\n",
              "      <td>objective</td>\n",
              "    </tr>\n",
              "    <tr>\n",
              "      <th>26</th>\n",
              "      <td>Math Master teacher Darnese Wilkilnson skillfu...</td>\n",
              "      <td>objective</td>\n",
              "    </tr>\n",
              "    <tr>\n",
              "      <th>27</th>\n",
              "      <td>Bentley Institute “Digital Infrastructure Stud...</td>\n",
              "      <td>objective</td>\n",
              "    </tr>\n",
              "    <tr>\n",
              "      <th>28</th>\n",
              "      <td>Tornadoes last night damaged LSU-Alexandria ca...</td>\n",
              "      <td>objective</td>\n",
              "    </tr>\n",
              "    <tr>\n",
              "      <th>29</th>\n",
              "      <td>AAU students when they c Delsu student drive B...</td>\n",
              "      <td>objective</td>\n",
              "    </tr>\n",
              "    <tr>\n",
              "      <th>34</th>\n",
              "      <td>Our Careers Advisor Mrs Bentley has started ma...</td>\n",
              "      <td>objective</td>\n",
              "    </tr>\n",
              "    <tr>\n",
              "      <th>35</th>\n",
              "      <td>Bo is showing Bentley to one of their students...</td>\n",
              "      <td>objective</td>\n",
              "    </tr>\n",
              "    <tr>\n",
              "      <th>36</th>\n",
              "      <td>Teachers helping teachers at Oak Hill ES. Than...</td>\n",
              "      <td>subjective</td>\n",
              "    </tr>\n",
              "    <tr>\n",
              "      <th>37</th>\n",
              "      <td>Our #StudentSpotlight this week is Vanessa Ben...</td>\n",
              "      <td>objective</td>\n",
              "    </tr>\n",
              "    <tr>\n",
              "      <th>38</th>\n",
              "      <td>Check out Bentley H. from Ms. Deissler's #WeAr...</td>\n",
              "      <td>objective</td>\n",
              "    </tr>\n",
              "    <tr>\n",
              "      <th>39</th>\n",
              "      <td>Attention Seniors! For those accepted to Bentl...</td>\n",
              "      <td>objective</td>\n",
              "    </tr>\n",
              "  </tbody>\n",
              "</table>\n",
              "</div>"
            ],
            "text/plain": [
              "                                                tweet subject_class\n",
              "1   Help Bentley students raise money for the Bent...     objective\n",
              "2   Bentley Institute Announces Digital Infrastruc...     objective\n",
              "3   \"Bentley Institute announces “Digital Infrastr...     objective\n",
              "6   HS Students: Mrs. Bentley sent out an email to...     objective\n",
              "9                          Support Bentley Students!      objective\n",
              "10  Just got a pang of nostalgia from the Millbroo...     objective\n",
              "12  Poor kids, minorities and illegals get school ...     objective\n",
              "13  In between classes, our teachers across Bentle...     objective\n",
              "14  Erin Bentley, a UW second-year master’s studen...     objective\n",
              "16  And I deserve a Bentley and not paying student...     objective\n",
              "18  Bentley STAAD Pro V8i Crack Software Download ...     objective\n",
              "21  Bentley STAAD Pro V8i Crack Software Download ...     objective\n",
              "22  Bentley Institute Launches Digital Infrastruct...     objective\n",
              "24  Bentley Institute Launches Digital Infrastruct...     objective\n",
              "25  SO STUDIOUS: Kindergartner Brody Bentley, a st...     objective\n",
              "26  Math Master teacher Darnese Wilkilnson skillfu...     objective\n",
              "27  Bentley Institute “Digital Infrastructure Stud...     objective\n",
              "28  Tornadoes last night damaged LSU-Alexandria ca...     objective\n",
              "29  AAU students when they c Delsu student drive B...     objective\n",
              "34  Our Careers Advisor Mrs Bentley has started ma...     objective\n",
              "35  Bo is showing Bentley to one of their students...     objective\n",
              "36  Teachers helping teachers at Oak Hill ES. Than...    subjective\n",
              "37  Our #StudentSpotlight this week is Vanessa Ben...     objective\n",
              "38  Check out Bentley H. from Ms. Deissler's #WeAr...     objective\n",
              "39  Attention Seniors! For those accepted to Bentl...     objective"
            ]
          },
          "metadata": {
            "tags": []
          },
          "execution_count": 38
        }
      ]
    },
    {
      "cell_type": "code",
      "metadata": {
        "id": "XhrQRjcmWS_A",
        "colab_type": "code",
        "outputId": "1a741c3b-3145-4d4b-8346-972934a2d014",
        "colab": {
          "base_uri": "https://localhost:8080/",
          "height": 54
        }
      },
      "source": [
        "# extract tweet\n",
        "tweet=list(negative['tweet'])\n",
        "string = \",\".join(tweet)\n",
        "string"
      ],
      "execution_count": 0,
      "outputs": [
        {
          "output_type": "execute_result",
          "data": {
            "text/plain": [
              "'Help Bentley students raise money for the Bentley Emergency Assistance Fund (EAF) to help out students in dire financial straits. Visit and share their online pop-up store at https://keep-the-beat-going.myshopify.com Hurry the store closes on April 29th! #keetthebeatgoing #bentleyuniversity,Bentley Institute Announces Digital Infrastructure Student Challenge https://ift.tt/3cJuyQl #roofing #florida #brevardcounty,\"Bentley Institute announces “Digital Infrastructure Student Idea Challenge 2020”\" https://www.directionsmag.com/pressrelease/9744 #GIS,HS Students: Mrs. Bentley sent out an email today with a Husker Check In form. Please take a few minutes to complete the form. Link is also here: ,Support Bentley Students! ,Just got a pang of nostalgia from the Millbrook Bentley story - I briefly worked there on placement. I was asked to take 3 students interviewing for next years\\' intake on a track tour after the assessment. 1/2,Poor kids, minorities and illegals get school paid for, the Chinese students drive Bentley’s, nobody’s living in the dorms, the maintenance guys are union, the school year isn’t over. Where’s the money going to go?,In between classes, our teachers across Bentley are stepping in to bring campus life home to everyone. In Ms. Almeida\\'s Legtastic Workout - an optional session of yoga, squats, lunges and stretching - our #MiddleSchool students are getting their move on! #remoteteaching,Erin Bentley, a UW second-year master’s student, majoring in botany, will explore the Arctic aboard a research ship next summer. Bentley is one of 40 artists and scientists selected for the program. https://oilcity.news/wyoming/2020/04/15/uw-student-selected-for-arctic-circle-expedition/,And I deserve a Bentley and not paying student loans for 12 yrs ,Bentley STAAD Pro V8i Crack Software Download [Free_Student_Training] ,Bentley STAAD Pro V8i Crack Software Download [Free_Student_Training] ,Bentley Institute Launches Digital Infrastructure Student Idea Challenge 2020 http://www.dailycadcam.com/bentley-institute-launches-digital-infrastructure-student-idea-challenge-2020/ @BentleyAsia,Bentley Institute Launches Digital Infrastructure Student Idea Challenge 2020 http://www.dailycadcam.com/bentley-institute-launches-digital-infrastructure-student-idea-challenge-2020/#.XorbBu4b97I.twitter #BentleyInstitute @BentleySystems #digitalinfrastructure #studentideachallenge2020,SO STUDIOUS: Kindergartner Brody Bentley, a student in Mrs. Wissman\\'s class, works on assignments at home amid the Covid-19 extended closure. (Submitted by Kristen Bentley.) #StayConnectedSWCS #NYLearnsRemotely #TeamSouthwestern @mlangworthyswcs @MoDonahue @ThePost_Journal,Math Master teacher Darnese Wilkilnson skillfully teaching our 4th grade scholars division without remainders using the area model followed by class check ins with ELA Master teacher Natalie Adams & my goldendoodle Bentley. We our DPSCD students. ,Bentley Institute “Digital Infrastructure Student Idea Challenge\" https://www.geoconnexion.com/news/bentley-institute-announces-digital-infrastructure-student-idea-challenge-2020/,Tornadoes last night damaged LSU-Alexandria campus. The 40 remaining students on campus are being moved to Hotel Bentley. Twister went thru middle of LSU-A Ag Center destroying DeWitt Livestock facility.,AAU students when they c Delsu student drive Bentley into their school ,Our Careers Advisor Mrs Bentley has started marking phone calls to all of our year 10 students, to discuss Post-16 options. If you have any questions check out the careers section of our website or contact careers@bruntcliffe.leeds.sch.uk #aspirations #careersadvice #post16,Bo is showing Bentley to one of their students on Zoom, and Bentley just gave me this look like PLEASE GET ME OUTTA HERE. HELP. SOS.,Teachers helping teachers at Oak Hill ES. Thank you to Hunter and Bentley (our Seesaw Ambassadors on campus) for leading our Q&amp;A session today on Seesaw. As always, we are working hard to support our students! Sending you all a virtual high five! @OakHillElem @Seesaw @AustinISD,Our #StudentSpotlight this week is Vanessa Bentley! Vanessa is a computer engineering student at @UUtah with aspirations to explore the world and work internationally. ,Check out Bentley H. from Ms. Deissler\\'s #WeAreKingswood 2nd grade class! For Science the students were reading about the needs of animals and were asked to create a zoo enclosure and he\\'s showing off his! #RemoteLearning #DysartExtraordinary,Attention Seniors! For those accepted to Bentley, they will be holding a virtual Admitted Student Day on Saturday, April 4. There is no need to register. Bentley will send you a link to join by email on Saturday morning. For additional questions, call 781-891-2244. '"
            ]
          },
          "metadata": {
            "tags": []
          },
          "execution_count": 39
        }
      ]
    },
    {
      "cell_type": "code",
      "metadata": {
        "id": "jOkk_dQdWVHN",
        "colab_type": "code",
        "colab": {}
      },
      "source": [
        "# remove stop words and token \n",
        "clean_text=remove_stopwords(string)\n",
        "token=nltk.word_tokenize(clean_text)"
      ],
      "execution_count": 0,
      "outputs": []
    },
    {
      "cell_type": "code",
      "metadata": {
        "id": "YUeYH-CiWXSE",
        "colab_type": "code",
        "colab": {}
      },
      "source": [
        "# stem word \n",
        "ps = PorterStemmer() \n",
        "stem_word = []\n",
        "for w in token: \n",
        "  stem_word.append(ps.stem(w))"
      ],
      "execution_count": 0,
      "outputs": []
    },
    {
      "cell_type": "code",
      "metadata": {
        "id": "4qjhq1RFWZZn",
        "colab_type": "code",
        "colab": {}
      },
      "source": [
        "# freq dist \n",
        "freq=FreqDist(stem_word)\n",
        "data_freq = pd.DataFrame([freq.keys(),freq.values()]).transpose()\n",
        "data_freq.columns=['word','freq']\n",
        "data_freq.sort_values('freq',ascending=False,inplace=True)\n",
        "data_freq['len']=data_freq['word'].apply(len)"
      ],
      "execution_count": 0,
      "outputs": []
    },
    {
      "cell_type": "code",
      "metadata": {
        "id": "OGHLQhJhWbbF",
        "colab_type": "code",
        "outputId": "af81e29c-7e8a-4a87-f1f3-b04d90198da8",
        "colab": {
          "base_uri": "https://localhost:8080/",
          "height": 282
        }
      },
      "source": [
        "# choose meaningful words \n",
        "data_freq = data_freq[data_freq['len']>1]\n",
        "data_freq.set_index('word',drop=True).head(25)['freq'].plot(kind='barh')"
      ],
      "execution_count": 0,
      "outputs": [
        {
          "output_type": "execute_result",
          "data": {
            "text/plain": [
              "<matplotlib.axes._subplots.AxesSubplot at 0x7f15cb114748>"
            ]
          },
          "metadata": {
            "tags": []
          },
          "execution_count": 43
        },
        {
          "output_type": "display_data",
          "data": {
            "image/png": "[encoded data removed]",
            "text/plain": [
              "<Figure size 432x288 with 1 Axes>"
            ]
          },
          "metadata": {
            "tags": []
          }
        }
      ]
    }
  ]
}